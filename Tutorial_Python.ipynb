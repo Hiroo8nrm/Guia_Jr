{
  "nbformat": 4,
  "nbformat_minor": 0,
  "metadata": {
    "colab": {
      "provenance": [],
      "include_colab_link": true
    },
    "kernelspec": {
      "name": "python3",
      "display_name": "Python 3"
    },
    "language_info": {
      "name": "python"
    }
  },
  "cells": [
    {
      "cell_type": "markdown",
      "metadata": {
        "id": "view-in-github",
        "colab_type": "text"
      },
      "source": [
        "<a href=\"https://colab.research.google.com/github/Hiroo8nrm/Guia_Jr/blob/main/Tutorial_Python.ipynb\" target=\"_parent\"><img src=\"https://colab.research.google.com/assets/colab-badge.svg\" alt=\"Open In Colab\"/></a>"
      ]
    },
    {
      "cell_type": "markdown",
      "source": [
        "<center>\n",
        "<img src=\"https://api.sololearn.com/DownloadFile?id=4529\">\n",
        "\n",
        "**Tutorial de Python para principantes**\n",
        "\n",
        "*Nicolás Pérez - Físico y matemático*"
      ],
      "metadata": {
        "id": "sm1Nk-jPDG89"
      }
    },
    {
      "cell_type": "markdown",
      "source": [
        "<center>\n",
        "\n",
        "**¿Por qué?...**\n",
        "\n",
        "¿Quieres construir un sitio web elegante? ¿Desarrollar un videojuego? ¿O tal vez crear una inteligencia artificial? Python te tiene cubierto, y algo más. Python es un lenguaje de programación de alto nivel, con un montón de aplicaciones. Es muy flexible y accesible, lo que lo hace popular entre algunas de las organizaciones más grandes (y geniales) del mundo: piense en Google, NASA, Disney... incluso la CIA. En este curso, cubriremos los conceptos básicos de Python, además de crear proyectos de la vida real y resolver diferentes desafíos de codificación.\n",
        "\n",
        "*Aprenderemos la versión 3 de Python , que es la versión principal más reciente de Python.*\n",
        "\n",
        "\n",
        "\n",
        "---\n",
        "\n"
      ],
      "metadata": {
        "id": "Xl24rrbgEnYi"
      }
    },
    {
      "cell_type": "markdown",
      "source": [
        "<center>\n",
        "\n",
        "**Python** es un lenguaje de programación de alto nivel, con aplicaciones en numerosas áreas, incluyendo programación web, scripting, computación científica e inteligencia artificial.\n",
        "\n",
        "---\n",
        "\n"
      ],
      "metadata": {
        "id": "ohTO3r3HVmxo"
      }
    },
    {
      "cell_type": "markdown",
      "source": [
        "# **MÓDULO 1: Operaciones matemáticas básicas**\n",
        "\n",
        "Para crear un programa simple que ejecute un **TEXTO** diciendo \"Hello world!\", solo hace falta utilizar la función **print** (*Siempre va seguido de unos paréntesis y unas comillas simples (' ') o dobles comillas (\" \") de lo que queremos que contenga la salida*)."
      ],
      "metadata": {
        "id": "kK-_ZcL5E9N7"
      }
    },
    {
      "cell_type": "code",
      "source": [
        "print('Hello world!')"
      ],
      "metadata": {
        "colab": {
          "base_uri": "https://localhost:8080/"
        },
        "id": "w21qRQ7AEwUe",
        "outputId": "e9391410-8bed-4e04-9f2c-12602b26c26f"
      },
      "execution_count": null,
      "outputs": [
        {
          "output_type": "stream",
          "name": "stdout",
          "text": [
            "Hello world!\n"
          ]
        }
      ]
    },
    {
      "cell_type": "markdown",
      "source": [
        "Puedes crear múltiples líneas de texto usando varias veces la opción **print**:\n",
        "\n",
        "Nota: Para hacer comentarios dentro de los códigos sin afectar la compilación de los mismos se puede utilizar el símbolo (#)."
      ],
      "metadata": {
        "id": "alqV0VO-GeOX"
      }
    },
    {
      "cell_type": "code",
      "source": [
        "print(\"Hola\")\n",
        "print('mi')\n",
        "print(\"nombre es\") #Aquí hay un comentario anexo al código, sin modificar su ejecución. Esto sirve para enfatizar o recordar las funciones que se tienen en el código.\n",
        "print('Nicolás')"
      ],
      "metadata": {
        "colab": {
          "base_uri": "https://localhost:8080/"
        },
        "id": "Vb5Lyf0_GuNP",
        "outputId": "2c7cad31-f0af-42e6-f955-8b0401ff3496"
      },
      "execution_count": null,
      "outputs": [
        {
          "output_type": "stream",
          "name": "stdout",
          "text": [
            "Hola\n",
            "mi\n",
            "nombre es\n",
            "Nicolás\n"
          ]
        }
      ]
    },
    {
      "cell_type": "markdown",
      "source": [
        "Además de que Python puede crear texto, también puede hacer **CÁLCULOS**. Para ello, sólo es necesario utilizar la función **print** y realizar la operación que se quiera de salida (sin necesidad de las comillas simples ('')):"
      ],
      "metadata": {
        "id": "dwDTeUUpLuaP"
      }
    },
    {
      "cell_type": "code",
      "source": [
        "print(2+2)\n",
        "print(3+4-1) #aunque hayan espacios entre signos, Python los ejectua por igual. Este apunte es válido para algunos programadores que prefieren utilizar esta estructura.\n",
        "print(3 + 4 - 1)\n",
        "print(2 * 10)\n",
        "print(10/5)"
      ],
      "metadata": {
        "colab": {
          "base_uri": "https://localhost:8080/"
        },
        "id": "vjGESjuAMAJU",
        "outputId": "83e66106-e269-4a8c-ca53-6d4b82b34a55"
      },
      "execution_count": null,
      "outputs": [
        {
          "output_type": "stream",
          "name": "stdout",
          "text": [
            "4\n",
            "6\n",
            "6\n",
            "20\n",
            "2.0\n"
          ]
        }
      ]
    },
    {
      "cell_type": "markdown",
      "source": [
        "Igualmente que en matemáticas, la jerarquía de las operaciones depende de los signos y en Python se puede usar este mismo principio en las operaciones:"
      ],
      "metadata": {
        "id": "oKDlfwuRMnRn"
      }
    },
    {
      "cell_type": "code",
      "source": [
        "print(5 * 2 + 3)\n",
        "print((5 * 2) + 3)\n",
        "print(5 * (2 + 3))"
      ],
      "metadata": {
        "colab": {
          "base_uri": "https://localhost:8080/"
        },
        "id": "IMAx4x9VM5wG",
        "outputId": "6c42f013-1761-4e00-f540-01a850648a18"
      },
      "execution_count": null,
      "outputs": [
        {
          "output_type": "stream",
          "name": "stdout",
          "text": [
            "13\n",
            "13\n",
            "25\n"
          ]
        }
      ]
    },
    {
      "cell_type": "markdown",
      "source": [
        "<center>\n",
        "\n",
        "**RETO**: *¿Puedes crear un programa que te calcule la cantidad de segundos que tienen 30 días?*\n",
        "\n",
        "---\n",
        "\n",
        "\n"
      ],
      "metadata": {
        "id": "auuP3qGaPE-q"
      }
    },
    {
      "cell_type": "markdown",
      "source": [
        "**Tipos de datos:**\n",
        "\n",
        "Para Python cada carácter que entra dentro del código tiene un tipo de dato, a continuación algunos de los tipos de datos más frecuentes:\n",
        "- **Cadena (String):** Son las líneas de texto. Ej: \"Hello world!\"\n",
        "- **Números enteros (Integers):** Son los tipos de números enteros. Ej: 2\n",
        "- **Flotantes (Floats):** Son los tipos de números más frecuentes con un decimal. Ej: 2.0"
      ],
      "metadata": {
        "id": "IMBhLi3kPawi"
      }
    },
    {
      "cell_type": "markdown",
      "source": [
        "Algunos ejemplos de operaciones entre floats son:"
      ],
      "metadata": {
        "id": "EnRsVsCyQxQr"
      }
    },
    {
      "cell_type": "code",
      "source": [
        "print(2.0 + 5.0) #Se pueden hacer operaciones entre floats\n",
        "print(3 * 4.5) #Se pueden hacer operaciones entre floats e ints\n",
        "print(10 / 3) #Operaciones entre ints pueden dar como resultado floats"
      ],
      "metadata": {
        "colab": {
          "base_uri": "https://localhost:8080/"
        },
        "id": "8Jl9iMUuRC8-",
        "outputId": "39c68146-bbba-4e5f-974d-fc5e67b2c048"
      },
      "execution_count": null,
      "outputs": [
        {
          "output_type": "stream",
          "name": "stdout",
          "text": [
            "7.0\n",
            "13.5\n",
            "3.3333333333333335\n"
          ]
        }
      ]
    },
    {
      "cell_type": "markdown",
      "source": [
        "Si se quiere verificar qué tipo de dato es uno de los carácteres en el código se puede usar la función **type()** de la siguiente forma:"
      ],
      "metadata": {
        "id": "KMnWzTd9X1k6"
      }
    },
    {
      "cell_type": "code",
      "source": [
        "type(\"Hello\")"
      ],
      "metadata": {
        "colab": {
          "base_uri": "https://localhost:8080/"
        },
        "id": "g9EHkDlmYBA4",
        "outputId": "d91a0615-ab5d-4540-d00f-0c3cba389aa7"
      },
      "execution_count": null,
      "outputs": [
        {
          "output_type": "execute_result",
          "data": {
            "text/plain": [
              "str"
            ]
          },
          "metadata": {},
          "execution_count": 18
        }
      ]
    },
    {
      "cell_type": "code",
      "source": [
        "type(2)"
      ],
      "metadata": {
        "colab": {
          "base_uri": "https://localhost:8080/"
        },
        "id": "078l5WIiYPLo",
        "outputId": "f6f06df4-e271-4d6a-acd5-e81fa1c06545"
      },
      "execution_count": null,
      "outputs": [
        {
          "output_type": "execute_result",
          "data": {
            "text/plain": [
              "int"
            ]
          },
          "metadata": {},
          "execution_count": 4
        }
      ]
    },
    {
      "cell_type": "code",
      "source": [
        "type(4.0)"
      ],
      "metadata": {
        "colab": {
          "base_uri": "https://localhost:8080/"
        },
        "id": "RWkaAwkjYTzj",
        "outputId": "4294b1e7-05f9-4f26-cdaa-60bd65b9bfef"
      },
      "execution_count": null,
      "outputs": [
        {
          "output_type": "execute_result",
          "data": {
            "text/plain": [
              "float"
            ]
          },
          "metadata": {},
          "execution_count": 5
        }
      ]
    },
    {
      "cell_type": "markdown",
      "source": [
        "**Operación de exponenciación**: La operación de exponenciación en matemáticas como $2^{3}$, se puede realizar usando el símbolo (**) de la siguiente manera:"
      ],
      "metadata": {
        "id": "-ZIfJuOnRlNY"
      }
    },
    {
      "cell_type": "code",
      "source": [
        "print(2**3)"
      ],
      "metadata": {
        "colab": {
          "base_uri": "https://localhost:8080/"
        },
        "id": "7Tyzx8OUSNLk",
        "outputId": "ee6642b0-a8f0-4804-fbca-a5e9301ae788"
      },
      "execution_count": null,
      "outputs": [
        {
          "output_type": "stream",
          "name": "stdout",
          "text": [
            "8\n"
          ]
        }
      ]
    },
    {
      "cell_type": "markdown",
      "source": [
        "Recordando que con la operación de raíz cuadrada $\\sqrt{16}$ se puede operar usando exponenciación de la forma $16^{1/2}$, y entonces se puede hacer:"
      ],
      "metadata": {
        "id": "8xF2Vf6fSYBN"
      }
    },
    {
      "cell_type": "code",
      "source": [
        "print( 16**(1/2))"
      ],
      "metadata": {
        "colab": {
          "base_uri": "https://localhost:8080/"
        },
        "id": "oFfwYyTvSwhY",
        "outputId": "361de84e-c17c-4796-8f7d-64cab61e2a73"
      },
      "execution_count": null,
      "outputs": [
        {
          "output_type": "stream",
          "name": "stdout",
          "text": [
            "4.0\n"
          ]
        }
      ]
    },
    {
      "cell_type": "markdown",
      "source": [
        "Una manera alternativa para usar la función de exponenciación es utilizando la función **pow(#base, #exponente)**, usándolo de la siguiente manera:"
      ],
      "metadata": {
        "id": "ssCVqm9OYani"
      }
    },
    {
      "cell_type": "code",
      "source": [
        "pow(2,3)"
      ],
      "metadata": {
        "colab": {
          "base_uri": "https://localhost:8080/"
        },
        "id": "zB_F0dRsYyXe",
        "outputId": "da73b618-12fe-4111-8f2b-a796e99e8f04"
      },
      "execution_count": null,
      "outputs": [
        {
          "output_type": "execute_result",
          "data": {
            "text/plain": [
              "8"
            ]
          },
          "metadata": {},
          "execution_count": 1
        }
      ]
    },
    {
      "cell_type": "markdown",
      "source": [
        "**Operación de división entera:** Se puede hacer una división con resultado entero (int) utilizando la simbología (//), entonces como ejemplo:"
      ],
      "metadata": {
        "id": "CsnODOCPTAbD"
      }
    },
    {
      "cell_type": "code",
      "source": [
        "print(8 // 3)\n",
        "print(10 // 6)"
      ],
      "metadata": {
        "colab": {
          "base_uri": "https://localhost:8080/"
        },
        "id": "7Ta2sPwOTJeP",
        "outputId": "78fe52f0-4294-4184-f6aa-53adc56b9e2b"
      },
      "execution_count": null,
      "outputs": [
        {
          "output_type": "stream",
          "name": "stdout",
          "text": [
            "2\n",
            "1\n"
          ]
        }
      ]
    },
    {
      "cell_type": "markdown",
      "source": [
        "Para calcular el **RESIDUO** de una división se usa el símbolo %, así entonces:"
      ],
      "metadata": {
        "id": "0d5sZAWyZOWU"
      }
    },
    {
      "cell_type": "code",
      "source": [
        "print(10 % 3)"
      ],
      "metadata": {
        "colab": {
          "base_uri": "https://localhost:8080/"
        },
        "id": "hwr4DFKzZZ4r",
        "outputId": "672fe7bc-e10c-4e48-8be1-7151d8d9764b"
      },
      "execution_count": null,
      "outputs": [
        {
          "output_type": "stream",
          "name": "stdout",
          "text": [
            "1\n"
          ]
        }
      ]
    },
    {
      "cell_type": "markdown",
      "source": [
        "También, existe una función integrada para calcular el cociente y el residuo de una división, usando la función **divmod(#numerador, #denominador)** donde el resultado tendrá el par (cociente, residuo):"
      ],
      "metadata": {
        "id": "JdCowq6oZmFi"
      }
    },
    {
      "cell_type": "code",
      "source": [
        "divmod(13,4)"
      ],
      "metadata": {
        "colab": {
          "base_uri": "https://localhost:8080/"
        },
        "id": "jZB5HV_GZ4Iv",
        "outputId": "913e249b-3c28-4b3d-8885-0539be6253d3"
      },
      "execution_count": null,
      "outputs": [
        {
          "output_type": "execute_result",
          "data": {
            "text/plain": [
              "(3, 1)"
            ]
          },
          "metadata": {},
          "execution_count": 23
        }
      ]
    },
    {
      "cell_type": "markdown",
      "source": [
        "\n",
        "\n",
        "---\n",
        "\n",
        "**Notas extra:**\n",
        "\n",
        "-Función para redondear un número: Se puede usar la función **round()** devolviendo así el entero más próximo:"
      ],
      "metadata": {
        "id": "Z1zVw4d7NKTd"
      }
    },
    {
      "cell_type": "code",
      "source": [
        "round(2.43)"
      ],
      "metadata": {
        "colab": {
          "base_uri": "https://localhost:8080/"
        },
        "id": "xm6a7tRgdi5X",
        "outputId": "b83acfcc-eaaf-4e73-b5ea-ad75a09c6566"
      },
      "execution_count": null,
      "outputs": [
        {
          "output_type": "execute_result",
          "data": {
            "text/plain": [
              "2"
            ]
          },
          "metadata": {},
          "execution_count": 25
        }
      ]
    },
    {
      "cell_type": "code",
      "source": [
        "round(-6.71)"
      ],
      "metadata": {
        "colab": {
          "base_uri": "https://localhost:8080/"
        },
        "id": "FTfZWhbXdva5",
        "outputId": "1fff1ab4-fa64-4b3f-96cd-3eb1ad46beaa"
      },
      "execution_count": null,
      "outputs": [
        {
          "output_type": "execute_result",
          "data": {
            "text/plain": [
              "-7"
            ]
          },
          "metadata": {},
          "execution_count": 26
        }
      ]
    },
    {
      "cell_type": "code",
      "source": [
        "round(1.4)"
      ],
      "metadata": {
        "colab": {
          "base_uri": "https://localhost:8080/"
        },
        "id": "wdU_Leu5d1V6",
        "outputId": "e49164fc-9107-4605-c647-117604d002e4"
      },
      "execution_count": null,
      "outputs": [
        {
          "output_type": "execute_result",
          "data": {
            "text/plain": [
              "1"
            ]
          },
          "metadata": {},
          "execution_count": 1
        }
      ]
    },
    {
      "cell_type": "code",
      "source": [
        "round(2.398)"
      ],
      "metadata": {
        "colab": {
          "base_uri": "https://localhost:8080/"
        },
        "id": "QYG63pQwd3Uc",
        "outputId": "75ae0b2c-480e-4029-9bfe-c4b8347c2d4f"
      },
      "execution_count": null,
      "outputs": [
        {
          "output_type": "execute_result",
          "data": {
            "text/plain": [
              "2"
            ]
          },
          "metadata": {},
          "execution_count": 28
        }
      ]
    },
    {
      "cell_type": "markdown",
      "source": [
        "Además como un agregado, se puede colocar la función **round(# a redondear, # de decimales que se quieren redondear)**, por lo que:"
      ],
      "metadata": {
        "id": "MoEEOxHieSE0"
      }
    },
    {
      "cell_type": "code",
      "source": [
        "round(4.6789,3)"
      ],
      "metadata": {
        "colab": {
          "base_uri": "https://localhost:8080/"
        },
        "id": "hPLaOVtfegcF",
        "outputId": "67e532c8-c0be-4a18-eff1-32e20dec9445"
      },
      "execution_count": null,
      "outputs": [
        {
          "output_type": "execute_result",
          "data": {
            "text/plain": [
              "4.679"
            ]
          },
          "metadata": {},
          "execution_count": 31
        }
      ]
    },
    {
      "cell_type": "code",
      "source": [
        "round(3.89,5)"
      ],
      "metadata": {
        "colab": {
          "base_uri": "https://localhost:8080/"
        },
        "id": "bs865c-bemur",
        "outputId": "d45d0bc1-1b08-4c40-9c67-110e2bc146bf"
      },
      "execution_count": null,
      "outputs": [
        {
          "output_type": "execute_result",
          "data": {
            "text/plain": [
              "3.89"
            ]
          },
          "metadata": {},
          "execution_count": 33
        }
      ]
    },
    {
      "cell_type": "markdown",
      "source": [
        "-Números complejos: Para operar números complejos así como en su definición estándar $a+ib$ donde $i$ representa el número imaginario y $a$ y $b$ número reales, para sintaxis de Python se representará con la letra $j$, por lo que la estructura ahora será $a+jb$, pero teniendo la misma validez. SIEMPRE la $j$ deberá ir acompañada de un número, así valga $1$, por lo que se tendrán operaciones como:"
      ],
      "metadata": {
        "id": "Pf-cHdFJe5xR"
      }
    },
    {
      "cell_type": "code",
      "source": [
        "print(1 + 1j + 2 + 3j)"
      ],
      "metadata": {
        "colab": {
          "base_uri": "https://localhost:8080/"
        },
        "id": "nTsIK2cgfpPJ",
        "outputId": "5f995877-c24f-4c40-bc74-6552e550e2d0"
      },
      "execution_count": null,
      "outputs": [
        {
          "output_type": "stream",
          "name": "stdout",
          "text": [
            "(3+4j)\n"
          ]
        }
      ]
    },
    {
      "cell_type": "code",
      "source": [
        "print((1+1j) * 1j)"
      ],
      "metadata": {
        "colab": {
          "base_uri": "https://localhost:8080/"
        },
        "id": "OMCjZaKmfuH7",
        "outputId": "90c68926-10d8-482a-fa47-475b73ffd5ac"
      },
      "execution_count": null,
      "outputs": [
        {
          "output_type": "stream",
          "name": "stdout",
          "text": [
            "(-1+1j)\n"
          ]
        }
      ]
    },
    {
      "cell_type": "code",
      "source": [
        "print(1j * 1j)"
      ],
      "metadata": {
        "colab": {
          "base_uri": "https://localhost:8080/"
        },
        "id": "SIzPhkZLfw39",
        "outputId": "472ddf23-cb2c-427d-8198-a866dc57f6d2"
      },
      "execution_count": null,
      "outputs": [
        {
          "output_type": "stream",
          "name": "stdout",
          "text": [
            "(-1+0j)\n"
          ]
        }
      ]
    },
    {
      "cell_type": "markdown",
      "source": [
        "\n",
        "\n",
        "---\n",
        "# **Módulo 2: Cadenas y carácteres especiales**\n",
        "\n",
        "Para incluir una comilla simple dentro de una cadena de texto, por ejemplo en la frase: **He's a physicist**, se puede usar la cadena de texto en *print()* con dobles comillas (\" \") y se usarían las comillas simples para enfatizar en el texto:\n",
        "\n"
      ],
      "metadata": {
        "id": "EpVfaGM3f_mj"
      }
    },
    {
      "cell_type": "code",
      "source": [
        "print(\"He's a physicist\")"
      ],
      "metadata": {
        "colab": {
          "base_uri": "https://localhost:8080/"
        },
        "id": "-xLEsCmdiF21",
        "outputId": "4e7cd677-affd-4fab-a515-59cefb638ce2"
      },
      "execution_count": null,
      "outputs": [
        {
          "output_type": "stream",
          "name": "stdout",
          "text": [
            "He's a physicist\n"
          ]
        }
      ]
    },
    {
      "cell_type": "markdown",
      "source": [
        "Otra manera alternativa, por ejemplo cuando usas comillas simples (' ') en una cadena de texto es usar el carácter (\\') y de esta manera se mostrará la comilla en el lugar indicado:"
      ],
      "metadata": {
        "id": "OywZ4SBwiLKR"
      }
    },
    {
      "cell_type": "code",
      "source": [
        "print('He\\'s a physicist')"
      ],
      "metadata": {
        "colab": {
          "base_uri": "https://localhost:8080/"
        },
        "id": "nGb-pIQYia38",
        "outputId": "0ed61383-14dc-4353-ba97-6399bdba3e05"
      },
      "execution_count": null,
      "outputs": [
        {
          "output_type": "stream",
          "name": "stdout",
          "text": [
            "He's a physicist\n"
          ]
        }
      ]
    },
    {
      "cell_type": "code",
      "source": [
        "print('\\\"All of this\\\" by Nicromaco')"
      ],
      "metadata": {
        "colab": {
          "base_uri": "https://localhost:8080/"
        },
        "id": "Vp9bc-Nhigf6",
        "outputId": "de2de121-30b5-4c67-fca5-2cd94d515b51"
      },
      "execution_count": null,
      "outputs": [
        {
          "output_type": "stream",
          "name": "stdout",
          "text": [
            "\"All of this\" by Nicromaco\n"
          ]
        }
      ]
    },
    {
      "cell_type": "markdown",
      "source": [
        "Para crear nuevas líneas en una cadena de texto, se puede usar el símbolo (\\n) entre las palabras, siendo así:\n",
        "\n"
      ],
      "metadata": {
        "id": "La18SyVDj8bu"
      }
    },
    {
      "cell_type": "code",
      "source": [
        "print('Me \\ngusta \\ncomer')"
      ],
      "metadata": {
        "colab": {
          "base_uri": "https://localhost:8080/"
        },
        "id": "3xTVAqUxkJQk",
        "outputId": "7a9696d3-6457-4cfc-b5a2-eec4ec66530d"
      },
      "execution_count": null,
      "outputs": [
        {
          "output_type": "stream",
          "name": "stdout",
          "text": [
            "Me \n",
            "gusta \n",
            "comer\n"
          ]
        }
      ]
    },
    {
      "cell_type": "markdown",
      "source": [
        "Una manera alternativa es colocar triples comillas dobles al inicio y al final de la cadena y así se separán automáticamente las mismas:"
      ],
      "metadata": {
        "id": "iAx9LH64kWHg"
      }
    },
    {
      "cell_type": "code",
      "source": [
        "print(\"\"\"Esto\n",
        "está\n",
        "increíble\"\"\")"
      ],
      "metadata": {
        "colab": {
          "base_uri": "https://localhost:8080/"
        },
        "id": "LIk3nr0Xkd2w",
        "outputId": "a5df77c0-b278-437e-e0e8-418b966af72c"
      },
      "execution_count": null,
      "outputs": [
        {
          "output_type": "stream",
          "name": "stdout",
          "text": [
            "Esto\n",
            "está\n",
            "increíble\n"
          ]
        }
      ]
    },
    {
      "cell_type": "markdown",
      "source": [
        "Para crear un tabulador o espaciado entre las palabras, se puede usar el símbolo (\\t) entre las palabras:"
      ],
      "metadata": {
        "id": "_azsIsdkkpYs"
      }
    },
    {
      "cell_type": "code",
      "source": [
        "print('Mi \\tnombre \\tes \\tNicolás')"
      ],
      "metadata": {
        "colab": {
          "base_uri": "https://localhost:8080/"
        },
        "id": "kIJbvpoSkvgb",
        "outputId": "38490cab-4923-46a7-f689-6a62f9a29b8e"
      },
      "execution_count": null,
      "outputs": [
        {
          "output_type": "stream",
          "name": "stdout",
          "text": [
            "Mi \tnombre \tes \tNicolás\n"
          ]
        }
      ]
    },
    {
      "cell_type": "markdown",
      "source": [
        "**Concatenación:** Son estructuras de cadenas involucradas por medio de operaciones numéricas y texto. Esto funciona combinando los conocimientos anteriormente aprendidos, como por ejemplo:"
      ],
      "metadata": {
        "id": "CLyfHFAJmKs7"
      }
    },
    {
      "cell_type": "code",
      "source": [
        "print(\"Spam\" + 'Tóxico')"
      ],
      "metadata": {
        "colab": {
          "base_uri": "https://localhost:8080/"
        },
        "id": "0CQxpp1hmiCD",
        "outputId": "ee8c63bb-e7c5-457c-9b13-367342aac053"
      },
      "execution_count": null,
      "outputs": [
        {
          "output_type": "stream",
          "name": "stdout",
          "text": [
            "SpamTóxico\n"
          ]
        }
      ]
    },
    {
      "cell_type": "code",
      "source": [
        "print(\"Nico\" + \"lás\")"
      ],
      "metadata": {
        "colab": {
          "base_uri": "https://localhost:8080/"
        },
        "id": "6V5wX9UWmoGh",
        "outputId": "30e21ba2-15a1-4c4c-f2ee-af82db20cf41"
      },
      "execution_count": null,
      "outputs": [
        {
          "output_type": "stream",
          "name": "stdout",
          "text": [
            "Nicolás\n"
          ]
        }
      ]
    },
    {
      "cell_type": "code",
      "source": [
        "print(\"2\" + \"2\")\n",
        "print(22)"
      ],
      "metadata": {
        "colab": {
          "base_uri": "https://localhost:8080/"
        },
        "id": "1GgACk1bmtmm",
        "outputId": "7cf32a5d-378c-42d5-d0d0-9120474ab59c"
      },
      "execution_count": null,
      "outputs": [
        {
          "output_type": "stream",
          "name": "stdout",
          "text": [
            "22\n",
            "22\n"
          ]
        }
      ]
    },
    {
      "cell_type": "code",
      "source": [
        "print(\"Nico\" * 3)"
      ],
      "metadata": {
        "colab": {
          "base_uri": "https://localhost:8080/"
        },
        "id": "BZey1pQrmxrO",
        "outputId": "b46f26ec-8d88-424c-b270-2765c1250d07"
      },
      "execution_count": null,
      "outputs": [
        {
          "output_type": "stream",
          "name": "stdout",
          "text": [
            "NicoNicoNico\n"
          ]
        }
      ]
    },
    {
      "cell_type": "code",
      "source": [
        "print(4 * '2')"
      ],
      "metadata": {
        "colab": {
          "base_uri": "https://localhost:8080/"
        },
        "id": "ZzY6ZeBFm5SN",
        "outputId": "592df609-61b3-4614-acc0-35135ca6818a"
      },
      "execution_count": null,
      "outputs": [
        {
          "output_type": "stream",
          "name": "stdout",
          "text": [
            "2222\n"
          ]
        }
      ]
    },
    {
      "cell_type": "markdown",
      "source": [
        "\n",
        "\n",
        "---\n",
        "\n",
        "# **Módulo 3: Variables**\n",
        "\n",
        "Una variable te permite almacenar un valor asignándole un nombre. El nombre puede utilizarse para referirse al valor más adelante en el programa. Por ejemplo, en el desarrollo de juegos, se utilizaría una variable para almacenar los puntos del jugador. De qué sirve jugar si no sabes quién va ganando, ¿verdad?\n",
        "\n",
        "Para asignar una variable, hay que usar el signo igual (=):\n"
      ],
      "metadata": {
        "id": "aYig-Srap7Du"
      }
    },
    {
      "cell_type": "code",
      "source": [
        "user=\"james\"\n",
        "print(user*3)"
      ],
      "metadata": {
        "id": "b4XJqcm2qoxP",
        "colab": {
          "base_uri": "https://localhost:8080/"
        },
        "outputId": "07347ca1-21fb-411b-ef0a-6f34b263f128"
      },
      "execution_count": null,
      "outputs": [
        {
          "output_type": "stream",
          "name": "stdout",
          "text": [
            "jamesjamesjames\n"
          ]
        }
      ]
    },
    {
      "cell_type": "code",
      "source": [
        "age=42\n",
        "print(age+5)"
      ],
      "metadata": {
        "id": "V8PZLkA1qwZI"
      },
      "execution_count": null,
      "outputs": []
    },
    {
      "cell_type": "markdown",
      "source": [
        "El nombre de las variables es bastante flexible. Se puede usar letras, números, y subrayados (_) en los nombres de la variable. Pero no se puede usar símbolos especiales, o empezar el nombre con un número. Además de ello, Python es un lenguaje que distingue mayúsculas de minúsculas, por lo que no será lo mismo colocar **Lastname** a **lastname**."
      ],
      "metadata": {
        "id": "iO5FER8FqtDg"
      }
    },
    {
      "cell_type": "code",
      "source": [
        "a-variable%name=2"
      ],
      "metadata": {
        "colab": {
          "base_uri": "https://localhost:8080/",
          "height": 130
        },
        "id": "wwrq1jDcrPJ1",
        "outputId": "48f89a5e-2f0b-41e8-d14f-082c11456afa"
      },
      "execution_count": null,
      "outputs": [
        {
          "output_type": "error",
          "ename": "SyntaxError",
          "evalue": "ignored",
          "traceback": [
            "\u001b[0;36m  File \u001b[0;32m\"<ipython-input-5-8fa0762368ea>\"\u001b[0;36m, line \u001b[0;32m1\u001b[0m\n\u001b[0;31m    a-variable%name=2\u001b[0m\n\u001b[0m    ^\u001b[0m\n\u001b[0;31mSyntaxError\u001b[0m\u001b[0;31m:\u001b[0m cannot assign to expression here. Maybe you meant '==' instead of '='?\n"
          ]
        }
      ]
    },
    {
      "cell_type": "code",
      "source": [
        "a_variable_name=2"
      ],
      "metadata": {
        "id": "tesBjJvGrR2_"
      },
      "execution_count": null,
      "outputs": []
    },
    {
      "cell_type": "markdown",
      "source": [
        "Al igual que con los números y las cadenas, una vez definida una variable, se pueden realizar operaciones con ella:"
      ],
      "metadata": {
        "id": "fgh51DBDrgwJ"
      }
    },
    {
      "cell_type": "code",
      "source": [
        "x=7 #en este momento es almacenado el valor guardado a lo largo del programa.\n",
        "print(x)\n",
        "\n",
        "print(x+3)"
      ],
      "metadata": {
        "colab": {
          "base_uri": "https://localhost:8080/"
        },
        "id": "OqwTBznTrvxo",
        "outputId": "8ef3f30b-9cda-4c9c-a60e-f90e68fe20ba"
      },
      "execution_count": null,
      "outputs": [
        {
          "output_type": "stream",
          "name": "stdout",
          "text": [
            "7\n",
            "10\n"
          ]
        }
      ]
    },
    {
      "cell_type": "markdown",
      "source": [
        "Aunque es recomendable no hacerlo, se puede cambiar el valor de una variable tantas veces como uno quiera:"
      ],
      "metadata": {
        "id": "50xpQHyLsAXb"
      }
    },
    {
      "cell_type": "code",
      "source": [
        "x=12\n",
        "print(x)"
      ],
      "metadata": {
        "colab": {
          "base_uri": "https://localhost:8080/"
        },
        "id": "Zo6fA21gsS95",
        "outputId": "353fba82-0b8e-475b-a225-8b88908bdc5b"
      },
      "execution_count": null,
      "outputs": [
        {
          "output_type": "stream",
          "name": "stdout",
          "text": [
            "12\n"
          ]
        }
      ]
    },
    {
      "cell_type": "code",
      "source": [
        "x=12\n",
        "print(x)\n",
        "\n",
        "x=\"Hola soy Nicolás\"\n",
        "print(x+\"!\")"
      ],
      "metadata": {
        "colab": {
          "base_uri": "https://localhost:8080/"
        },
        "id": "kt4cqOdasVQe",
        "outputId": "792abf20-7512-4538-b10b-b1340f9113ed"
      },
      "execution_count": null,
      "outputs": [
        {
          "output_type": "stream",
          "name": "stdout",
          "text": [
            "12\n",
            "Hola soy Nicolás!\n"
          ]
        }
      ]
    },
    {
      "cell_type": "markdown",
      "source": [
        "<center>\n",
        "\n",
        "**Reto:** *Crea un código con dos variables declaradas NAME y AGE, donde el resultado del código sea \"NAME IS AGE YEARS OLD\"*"
      ],
      "metadata": {
        "id": "nmEduZuisrcU"
      }
    },
    {
      "cell_type": "code",
      "source": [
        "name=\"Nicolas\"\n",
        "age=\"26\"\n",
        "print(name + \" \" + \"is\" + \" \" + age + \" \" + \"years old\")\n",
        "print(name+ \" is \" + age + \" years old\")"
      ],
      "metadata": {
        "colab": {
          "base_uri": "https://localhost:8080/"
        },
        "id": "gBwhIApXtBbQ",
        "outputId": "aac51b5d-5216-44de-b1b6-34a47cc9690e"
      },
      "execution_count": null,
      "outputs": [
        {
          "output_type": "stream",
          "name": "stdout",
          "text": [
            "Nicolas is 26 years old\n",
            "Nicolas is 26 years old\n"
          ]
        }
      ]
    },
    {
      "cell_type": "markdown",
      "source": [
        "\n",
        "\n",
        "---\n",
        "Para obtener la entrada **(INPUT)** de un usuario, solamente hace falta utilizar de manera conveniente la misma función de **input()** para indroducir los datos y le devuelve lo que  ha introducido en forma de **CADENA (TEXTO)**.\n"
      ],
      "metadata": {
        "id": "wG1OXokduvVl"
      }
    },
    {
      "cell_type": "code",
      "source": [
        "x=input()\n",
        "print(x)"
      ],
      "metadata": {
        "colab": {
          "base_uri": "https://localhost:8080/"
        },
        "id": "BGJIOdczvItF",
        "outputId": "92191752-7133-4588-f31a-bd72cb71483e"
      },
      "execution_count": null,
      "outputs": [
        {
          "output_type": "stream",
          "name": "stdout",
          "text": [
            "Nicolas\n",
            "Nicolas\n"
          ]
        }
      ]
    },
    {
      "cell_type": "markdown",
      "source": [
        "Para hacer que la declaración **input()** funcione, debe ir seguida de un paréntesis. A continuación, se puede proporcionar una cadena a **input()** entre los paréntesis, produciendo un mensaje de aviso:"
      ],
      "metadata": {
        "id": "I7yj3nD-vcnZ"
      }
    },
    {
      "cell_type": "code",
      "source": [
        "name=input(\"Enter your name: \")\n",
        "print(\"Hello, \" + name )"
      ],
      "metadata": {
        "colab": {
          "base_uri": "https://localhost:8080/"
        },
        "id": "xdoUHlh2vrzX",
        "outputId": "bc3c35a8-5f24-4529-b859-7df6041870ed"
      },
      "execution_count": null,
      "outputs": [
        {
          "output_type": "stream",
          "name": "stdout",
          "text": [
            "Enter your name: Alejandro\n",
            "Hello, Alejandro\n"
          ]
        }
      ]
    },
    {
      "cell_type": "markdown",
      "source": [
        "<center>\n",
        "\n",
        "**Reto:** *Crea un código que al introducir un dato, aparezca como resultado \"--- dato ---\"*"
      ],
      "metadata": {
        "id": "DpWVmH-nwmrx"
      }
    },
    {
      "cell_type": "code",
      "source": [
        "variable=input()\n",
        "print(\"--- \" + variable + \" ---\")"
      ],
      "metadata": {
        "colab": {
          "base_uri": "https://localhost:8080/"
        },
        "id": "yiiZLjZHw1HF",
        "outputId": "4004663c-54dd-400b-82ec-8a6f1c10b61e"
      },
      "execution_count": null,
      "outputs": [
        {
          "output_type": "stream",
          "name": "stdout",
          "text": [
            "Increíble\n",
            "--- Increíble ---\n"
          ]
        }
      ]
    },
    {
      "cell_type": "markdown",
      "source": [
        "Si se requiere que la función input() NO devuelva una cadena de texto, sino más bien un dato numérico, solamente habrá que convertir esta misma función input() en un valor numérico usando el dato que queramos por medio de la función **int()** (para enteros) o también de **float()** (para decimales)."
      ],
      "metadata": {
        "id": "y-lgy5Khye5s"
      }
    },
    {
      "cell_type": "code",
      "source": [
        "age=int(input())\n",
        "print(age)"
      ],
      "metadata": {
        "colab": {
          "base_uri": "https://localhost:8080/"
        },
        "id": "QlwHCcQ-zDap",
        "outputId": "e5b48653-0b08-4d06-f453-5c992307654b"
      },
      "execution_count": null,
      "outputs": [
        {
          "output_type": "stream",
          "name": "stdout",
          "text": [
            "56\n",
            "56\n"
          ]
        }
      ]
    },
    {
      "cell_type": "markdown",
      "source": [
        "De manera similar, se podría hacer el proceso inverso y convertir un número en una cadena y para ello habrá que utilizar la función **str()** (de string - cadena)."
      ],
      "metadata": {
        "id": "xFGs8pGozLQa"
      }
    },
    {
      "cell_type": "code",
      "source": [
        "age=35\n",
        "print(\"His age is \" + str(age))"
      ],
      "metadata": {
        "colab": {
          "base_uri": "https://localhost:8080/"
        },
        "id": "AE7Iro3VzYoB",
        "outputId": "4a1c334d-129f-4c08-c68e-a19d72b852c0"
      },
      "execution_count": null,
      "outputs": [
        {
          "output_type": "stream",
          "name": "stdout",
          "text": [
            "His age is 35\n"
          ]
        }
      ]
    },
    {
      "cell_type": "markdown",
      "source": [
        "Entre las características esenciales de la función **input()** es que se puede usar tantas veces como lo necesitemos para obtener múltiples entradas de datos:"
      ],
      "metadata": {
        "id": "g5K0EbQHz1ad"
      }
    },
    {
      "cell_type": "code",
      "source": [
        "name=input(\"Introduzca su nombre: \")\n",
        "age=input(\"Introduzca su edad: \")\n",
        "\n",
        "print(name + \" is \" + age)"
      ],
      "metadata": {
        "colab": {
          "base_uri": "https://localhost:8080/"
        },
        "id": "A5fqxwjjz_fl",
        "outputId": "36d4aae8-4593-444f-fa01-43de7ea14e8c"
      },
      "execution_count": null,
      "outputs": [
        {
          "output_type": "stream",
          "name": "stdout",
          "text": [
            "Introduzca su nombre: Nicolás\n",
            "Introduzca su edad: 25\n",
            "Nicolás is 25\n"
          ]
        }
      ]
    },
    {
      "cell_type": "markdown",
      "source": [
        "La ejecución del programa no terminará hasta que se hayan introducido todos los datos necesarios para el código."
      ],
      "metadata": {
        "id": "u1EOICY50MAv"
      }
    },
    {
      "cell_type": "markdown",
      "source": [
        "<center>\n",
        "\n",
        "**Reto:** *Crea un código que de entrada tome dos valores x e y, y posteriormente puedas hacer una suma con ellos dos*"
      ],
      "metadata": {
        "id": "_u4nWupV2Ozt"
      }
    },
    {
      "cell_type": "code",
      "source": [
        "x=int(input(\"Introduce un número: \"))\n",
        "y=int(input(\"Introduce otro número: \"))\n",
        "print(\"El resultado de la suma de los dos número es: \", x+y)"
      ],
      "metadata": {
        "colab": {
          "base_uri": "https://localhost:8080/"
        },
        "id": "pYDzdveA2X6y",
        "outputId": "a26df820-4827-433c-de23-9a9d96d3afac"
      },
      "execution_count": null,
      "outputs": [
        {
          "output_type": "stream",
          "name": "stdout",
          "text": [
            "Introduce un número: 10\n",
            "Introduce otro número: 20\n",
            "El resultado de la suma de los dos número es:  30\n"
          ]
        }
      ]
    },
    {
      "cell_type": "markdown",
      "source": [
        "\n",
        "\n",
        "---\n",
        "\n",
        "Otra utilidad para procesos matemáticos es usar los operadores **in-place** que permiten ahorrar tiempo a la hora de hacer un código por ejemplo que haga $x=x+3$ usando más bien $x +=3$, y así se pueden hacer con los otros operadores como (-), (*), (/) y (%)."
      ],
      "metadata": {
        "id": "jXh98FB_3CpI"
      }
    },
    {
      "cell_type": "code",
      "source": [
        "x=2\n",
        "print(x)\n",
        "\n",
        "x+=3\n",
        "print(x)"
      ],
      "metadata": {
        "colab": {
          "base_uri": "https://localhost:8080/"
        },
        "id": "eL5-J9wu3hQI",
        "outputId": "079b10f8-c4e1-481b-e4f6-52125774061f"
      },
      "execution_count": null,
      "outputs": [
        {
          "output_type": "stream",
          "name": "stdout",
          "text": [
            "2\n",
            "5\n"
          ]
        }
      ]
    },
    {
      "cell_type": "code",
      "source": [
        "x=4\n",
        "x*=3\n",
        "print(x)"
      ],
      "metadata": {
        "colab": {
          "base_uri": "https://localhost:8080/"
        },
        "id": "OfjbGXga3mTS",
        "outputId": "196a1223-8bb7-40fb-acea-5d43d79c6d3c"
      },
      "execution_count": null,
      "outputs": [
        {
          "output_type": "stream",
          "name": "stdout",
          "text": [
            "12\n"
          ]
        }
      ]
    },
    {
      "cell_type": "markdown",
      "source": [
        "Estos operadores no solo sirven para utilizar matemáticamente, sino también para el uso de las cadenas:"
      ],
      "metadata": {
        "id": "uaphAayJ338W"
      }
    },
    {
      "cell_type": "code",
      "source": [
        "x=\"Nicolas\"\n",
        "print(x)\n",
        "\n",
        "x+=\" Pérez\"\n",
        "print(x)"
      ],
      "metadata": {
        "colab": {
          "base_uri": "https://localhost:8080/"
        },
        "id": "Lu6a1Q3l38la",
        "outputId": "caac4aca-4ac0-4210-f24f-98ddf5168b6c"
      },
      "execution_count": null,
      "outputs": [
        {
          "output_type": "stream",
          "name": "stdout",
          "text": [
            "Nicolas\n",
            "Nicolas Pérez\n"
          ]
        }
      ]
    },
    {
      "cell_type": "code",
      "source": [
        "x=\"a\"\n",
        "x*=3\n",
        "print(x)"
      ],
      "metadata": {
        "colab": {
          "base_uri": "https://localhost:8080/"
        },
        "id": "SwlfBSDe4EyB",
        "outputId": "f9ccdc6c-34cb-4a75-9a46-1dfd90fd4bd3"
      },
      "execution_count": null,
      "outputs": [
        {
          "output_type": "stream",
          "name": "stdout",
          "text": [
            "aaa\n"
          ]
        }
      ]
    },
    {
      "cell_type": "markdown",
      "source": [
        "\n",
        "\n",
        "---\n",
        "\n",
        "\n",
        "<center>\n",
        "\n",
        "**Reto:** *¿Qué generará el siguiente código?*"
      ],
      "metadata": {
        "id": "oIdlcsEy5BuZ"
      }
    },
    {
      "cell_type": "code",
      "source": [
        "spam=\"7\"\n",
        "spam=spam + \"0\"\n",
        "eggs=int(spam) + 3\n",
        "print(float(eggs))"
      ],
      "metadata": {
        "id": "Jg2-Ro-A5J87",
        "colab": {
          "base_uri": "https://localhost:8080/"
        },
        "outputId": "818539ef-35c6-426c-da35-069d454454c6"
      },
      "execution_count": null,
      "outputs": [
        {
          "output_type": "stream",
          "name": "stdout",
          "text": [
            "73.0\n"
          ]
        }
      ]
    },
    {
      "cell_type": "markdown",
      "source": [
        "\n",
        "\n",
        "---\n",
        "\n",
        "# **Módulo 4: Flujos de control**\n",
        "\n",
        "A parte de los tipos de datos como cadenas, enteros, floats, entre otros, hay un tipo de datos muy interesantes usados en Python, y son los **Booleanos**(boolean). Estos, particularmente pueden tener dos valores: **True** y **False**. Para usarlos, solo basta con utilizar el operador (==)."
      ],
      "metadata": {
        "id": "SGvWvwgO5VaB"
      }
    },
    {
      "cell_type": "code",
      "source": [
        "my_boolean = True\n",
        "print(my_boolean)"
      ],
      "metadata": {
        "colab": {
          "base_uri": "https://localhost:8080/"
        },
        "id": "Tuoi7wpX-cYo",
        "outputId": "6370addb-4487-4bb6-d845-a000d5f13161"
      },
      "execution_count": null,
      "outputs": [
        {
          "output_type": "stream",
          "name": "stdout",
          "text": [
            "True\n"
          ]
        }
      ]
    },
    {
      "cell_type": "code",
      "source": [
        "print(2==3)"
      ],
      "metadata": {
        "colab": {
          "base_uri": "https://localhost:8080/"
        },
        "id": "X1PFgdXD-r4j",
        "outputId": "f34a306e-0e13-48a0-99a7-e1494c5a9108"
      },
      "execution_count": null,
      "outputs": [
        {
          "output_type": "stream",
          "name": "stdout",
          "text": [
            "False\n"
          ]
        }
      ]
    },
    {
      "cell_type": "code",
      "source": [
        "print(\"hello\" == \"hello\")"
      ],
      "metadata": {
        "colab": {
          "base_uri": "https://localhost:8080/"
        },
        "id": "lH0r8P_U-vht",
        "outputId": "0ea3d438-8059-4220-ccbd-2c371d5bf386"
      },
      "execution_count": null,
      "outputs": [
        {
          "output_type": "stream",
          "name": "stdout",
          "text": [
            "True\n"
          ]
        }
      ]
    },
    {
      "cell_type": "markdown",
      "source": [
        "Entre los otros tipos de comparadores para crear booleanos como el igual a (==), ya visto, también existen, no igual a (!=), mayor que (>), menor que (<), mayor o igual a (>=), y también, menor o igual a (<=). Nota: Los operadores de comparación también se denominan **Operadores relacionales**."
      ],
      "metadata": {
        "id": "LrCctjZq_IC5"
      }
    },
    {
      "cell_type": "code",
      "source": [
        "x=7\n",
        "\n",
        "print(x!=8)\n",
        "print(x>5)\n",
        "print(x<2)\n",
        "print(x>=7)\n",
        "print(x<=7)"
      ],
      "metadata": {
        "colab": {
          "base_uri": "https://localhost:8080/"
        },
        "id": "5WoKKGKn_kTr",
        "outputId": "99f84da6-ba42-475e-c8de-832b9e21e6ee"
      },
      "execution_count": null,
      "outputs": [
        {
          "output_type": "stream",
          "name": "stdout",
          "text": [
            "True\n",
            "True\n",
            "False\n",
            "True\n",
            "True\n"
          ]
        }
      ]
    },
    {
      "cell_type": "markdown",
      "source": [
        "\n",
        "\n",
        "---\n",
        "\n",
        "\n",
        "\n",
        "**Decaración IF:** Esta declaración sirve para ejecutar un código basado en una determinada condición, por ejemplo si el booleano se evalúa como True. Con las declaraciones **if**, si la condición se evalúa como True, las declaraciones se llevan a cabo. De lo contrario, no se llevan a cabo."
      ],
      "metadata": {
        "id": "jek1Y2WzABfA"
      }
    },
    {
      "cell_type": "code",
      "source": [
        "if condition: #estructuras que tiene la declaración if. ¡SIEMPRE se deben llevar los dos puntos!\n",
        "  statements #declaraciones. Notar que lleva sangría (espacio) al comenzar la línea."
      ],
      "metadata": {
        "id": "odgdMTilBEv3"
      },
      "execution_count": null,
      "outputs": []
    },
    {
      "cell_type": "code",
      "source": [
        "x=42 #un ejemplo de la declaración if.\n",
        "if x > 5:\n",
        "  print(\"x is greater than 5\")"
      ],
      "metadata": {
        "colab": {
          "base_uri": "https://localhost:8080/"
        },
        "id": "jZ3EfWaSBMDb",
        "outputId": "12fdc07f-b076-47ad-a6df-2466b9a08003"
      },
      "execution_count": null,
      "outputs": [
        {
          "output_type": "stream",
          "name": "stdout",
          "text": [
            "x is greater than 5\n"
          ]
        }
      ]
    },
    {
      "cell_type": "markdown",
      "source": [
        "Se pueden agregar múltiples declaraciones if independientes en un código dependiendo la condición, como a continuación:"
      ],
      "metadata": {
        "id": "G2L7EGtLBTIZ"
      }
    },
    {
      "cell_type": "code",
      "source": [
        "spam=7\n",
        "if spam > 5:\n",
        "  print(\"Cinco\")\n",
        "if spam > 8:\n",
        "  print(\"Ocho\")"
      ],
      "metadata": {
        "colab": {
          "base_uri": "https://localhost:8080/"
        },
        "id": "22FqhS4gB1gz",
        "outputId": "96a0a7e0-2c9c-44c8-a66d-52ece9d77f0e"
      },
      "execution_count": null,
      "outputs": [
        {
          "output_type": "stream",
          "name": "stdout",
          "text": [
            "Cinco\n"
          ]
        }
      ]
    },
    {
      "cell_type": "markdown",
      "source": [
        "Y además, las declaraciones if también pueden ir anidadas (unas dentro de otras) para cumplir una función particular. Esto quiere decir que la declaración if interior es la parte de la declaración del exterior. Un ejemplo podría ser:"
      ],
      "metadata": {
        "id": "f7211XCnCg1y"
      }
    },
    {
      "cell_type": "code",
      "source": [
        "num = 12\n",
        "if num > 5:\n",
        "  print(\"Bigger than 5\")\n",
        "  if num <= 47:\n",
        "    print(\"Between 5 and 47\")"
      ],
      "metadata": {
        "colab": {
          "base_uri": "https://localhost:8080/"
        },
        "id": "aDiQ_0VwC04B",
        "outputId": "4cc66ad5-6e6d-4612-92b7-bafd896a7b45"
      },
      "execution_count": null,
      "outputs": [
        {
          "output_type": "stream",
          "name": "stdout",
          "text": [
            "Bigger than 5\n",
            "Between 5 and 47\n"
          ]
        }
      ]
    },
    {
      "cell_type": "markdown",
      "source": [
        "\n",
        "\n",
        "---\n",
        "\n",
        "\n",
        "\n",
        "**Declaración ELSE:** Esta declaración sirve para responder a las que se evalúan como falsas. Así pues la declaración **else** puede utilizarse para ejecutar algunas declaraciones cuando la condición de la declaración **if** es False. Nota: Al igual que con las declaraciones **if**, el código dentro del bloque necesita ser sangrado."
      ],
      "metadata": {
        "id": "n-_Oj0LZQGEX"
      }
    },
    {
      "cell_type": "code",
      "source": [
        "x=4\n",
        "if x==5:\n",
        "  print(\"Yes\")\n",
        "else:\n",
        "  print(\"No\")"
      ],
      "metadata": {
        "colab": {
          "base_uri": "https://localhost:8080/"
        },
        "id": "qzOR_VJuRKuf",
        "outputId": "73464dfd-ed1e-41f6-d6e4-38d204ac4364"
      },
      "execution_count": null,
      "outputs": [
        {
          "output_type": "stream",
          "name": "stdout",
          "text": [
            "No\n"
          ]
        }
      ]
    },
    {
      "cell_type": "markdown",
      "source": [
        "Algo IMPORTANTE que hay que tener en cuenta es que por cada bloque de condición if sólo puede tener una declaración else. Así pues, para hacer varias comprobaciones se tiene que encadenar las declaraciones if y else."
      ],
      "metadata": {
        "id": "_WGwmixAR0Ky"
      }
    },
    {
      "cell_type": "code",
      "source": [
        "num=3\n",
        "if num==1:\n",
        "  print(\"One\")\n",
        "else:\n",
        "  if num==2:\n",
        "    print(\"Two\")\n",
        "  else:\n",
        "    if num==3:\n",
        "      print(\"Three\")\n",
        "    else:\n",
        "      print(\"Something else\")"
      ],
      "metadata": {
        "colab": {
          "base_uri": "https://localhost:8080/"
        },
        "id": "tAHD1b8nSLqQ",
        "outputId": "7f81fce3-a8be-4322-f6d7-a61bb5024eef"
      },
      "execution_count": null,
      "outputs": [
        {
          "output_type": "stream",
          "name": "stdout",
          "text": [
            "Three\n"
          ]
        }
      ]
    },
    {
      "cell_type": "markdown",
      "source": [
        "\n",
        "\n",
        "---\n",
        "\n",
        "\n",
        "\n",
        "**Declaración ELIF:** Aunque puede ser algo visualmente organizado, puede ser extenso en el código usar demasiadas declaraciones if/else, por ello, para no hacerlo demasiado largo, se inventó una declaración que contrajera la función compacta del if/else en la declaración **elif**, haciendo el código más corto y fácil de leer. Así, escribiendo el mismo código anterior pero usando la declaración elif, sería:"
      ],
      "metadata": {
        "id": "LlhQd8IWTLkr"
      }
    },
    {
      "cell_type": "code",
      "source": [
        "num = 3\n",
        "if num == 1:\n",
        "  print(\"One\")\n",
        "elif num == 2: #si se observa, se compactifican las declaraciones else-if de las dos líneas en una sola: elif.\n",
        "  print(\"Two\")\n",
        "elif num == 3:\n",
        "  print(\"Three\")\n",
        "else:\n",
        "  print(\"Something else\")"
      ],
      "metadata": {
        "colab": {
          "base_uri": "https://localhost:8080/"
        },
        "id": "CMCJsVa7Slx1",
        "outputId": "e3a7ba5e-66e8-49f4-9603-bca2843e6dbf"
      },
      "execution_count": null,
      "outputs": [
        {
          "output_type": "stream",
          "name": "stdout",
          "text": [
            "Three\n"
          ]
        }
      ]
    },
    {
      "cell_type": "markdown",
      "source": [
        "---\n",
        "\n",
        "\n",
        "<center>\n",
        "\n",
        "**Reto:** *Necesitas hacer un programa que tome un año como entrada y genere \"Leap year\" si es un año bisiesto, y \"Not a leap year\", si no es así.*\n",
        "\n",
        "*Parasaber si un año es bisiesto o no, hay que comprobar lo siguiente:*\n",
        "\n",
        "*1) Si el año es divisible en partes iguales por 4, ve al paso 2. En caso contrario, el año NO es bisiesto.*\n",
        "\n",
        "*2) Si el año es divisible por 100, ve al paso 3. En caso contrario, el año es bisiesto.*\n",
        "\n",
        "*3) Si el año es divisible por 400, el año es bisiesto. En caso contrario, no es bisiesto.*\n",
        "\n",
        "*Nota: Usa el operador % para comprobar si el año es divisible en partes iguales por un número (es decir, que su residuo sea 0).*\n",
        "\n",
        "---"
      ],
      "metadata": {
        "id": "vJ60GrDmX8vo"
      }
    },
    {
      "cell_type": "code",
      "source": [
        "year=int(input())\n",
        "if year%4==0:\n",
        "  if year%100==0:\n",
        "    if year%400==0:\n",
        "      print(\"Leap year\")\n",
        "    else:\n",
        "      print(\"Not a leap year\")\n",
        "  else:\n",
        "    print(\"Leap year\")\n",
        "else:\n",
        "  print(\"Not a leap year\")"
      ],
      "metadata": {
        "colab": {
          "base_uri": "https://localhost:8080/"
        },
        "id": "QvZABEcfZAdn",
        "outputId": "2c690603-f24e-4745-9552-77f452504688"
      },
      "execution_count": null,
      "outputs": [
        {
          "output_type": "stream",
          "name": "stdout",
          "text": [
            "1900\n",
            "Not a leap year\n"
          ]
        }
      ]
    },
    {
      "cell_type": "markdown",
      "source": [
        "---\n",
        "\n",
        "**Lógica booleana:** En esta lógica aparecen varios operadores como (**and**), (**or**) y (**not**) que permiten comprobar múltiples condiciones en una declaración if.\n",
        "\n",
        "Para empezar, analizando (and). Es True(true) si ambas condiciones se evalúan como True:"
      ],
      "metadata": {
        "id": "VOdownf-ZyXE"
      }
    },
    {
      "cell_type": "code",
      "source": [
        "print(1 == 1 and 2 == 2)\n",
        "\n",
        "print(1 == 1 and 2 == 3)\n",
        "\n",
        "print(1 != 1 and 2 == 2)\n",
        "\n",
        "print(2 < 1 and 3 > 6)"
      ],
      "metadata": {
        "colab": {
          "base_uri": "https://localhost:8080/"
        },
        "id": "M5a37sCUaRHk",
        "outputId": "27a1967c-7d25-4096-fb30-29ab5bf045ad"
      },
      "execution_count": null,
      "outputs": [
        {
          "output_type": "stream",
          "name": "stdout",
          "text": [
            "True\n",
            "False\n",
            "False\n",
            "False\n"
          ]
        }
      ]
    },
    {
      "cell_type": "code",
      "source": [
        "if (1 == 1) and (2 + 2 > 3):\n",
        "  print(\"True\")\n",
        "else:\n",
        "  print(\"False\")"
      ],
      "metadata": {
        "colab": {
          "base_uri": "https://localhost:8080/"
        },
        "id": "nSytZvHqajQr",
        "outputId": "a101dbde-8044-4d9b-f537-7a52cfd5c132"
      },
      "execution_count": null,
      "outputs": [
        {
          "output_type": "stream",
          "name": "stdout",
          "text": [
            "True\n"
          ]
        }
      ]
    },
    {
      "cell_type": "markdown",
      "source": [
        "Con el operador (or) se usa cuando es True en alguna o ambas de sus condiciones. Sino, es False cuando ambas condiciones son False."
      ],
      "metadata": {
        "id": "Sn2jzXanbIkC"
      }
    },
    {
      "cell_type": "code",
      "source": [
        "print(1 == 1 or 2 == 2)\n",
        "\n",
        "print(1 == 1 or 2 == 3)\n",
        "\n",
        "print(1 != 1 or 2 == 2)\n",
        "\n",
        "print(2 < 1 or 3 > 6)"
      ],
      "metadata": {
        "colab": {
          "base_uri": "https://localhost:8080/"
        },
        "id": "xU_eQ6RbbZcG",
        "outputId": "baeec4fb-b87e-4a0b-f0b2-913a1a228478"
      },
      "execution_count": null,
      "outputs": [
        {
          "output_type": "stream",
          "name": "stdout",
          "text": [
            "True\n",
            "True\n",
            "True\n",
            "False\n"
          ]
        }
      ]
    },
    {
      "cell_type": "code",
      "source": [
        "age = 15\n",
        "money = 500\n",
        "if age > 18 or money > 100:\n",
        "  print(\"Welcome\")"
      ],
      "metadata": {
        "colab": {
          "base_uri": "https://localhost:8080/"
        },
        "id": "2Bwo4MOjbila",
        "outputId": "4d5c480b-fb0b-406c-ea7c-339453e021cc"
      },
      "execution_count": null,
      "outputs": [
        {
          "output_type": "stream",
          "name": "stdout",
          "text": [
            "Welcome\n"
          ]
        }
      ]
    },
    {
      "cell_type": "markdown",
      "source": [
        "Finalmente con el operador (not) funciona un poco diferente. (not) toma sólo un argumento y lo invierte. El resultado de not True es False(false), y not False va a True(true). Así:"
      ],
      "metadata": {
        "id": "oteWGCQmb2Hw"
      }
    },
    {
      "cell_type": "code",
      "source": [
        "print(not 1 == 1)\n",
        "\n",
        "print(not 1 > 7)"
      ],
      "metadata": {
        "colab": {
          "base_uri": "https://localhost:8080/"
        },
        "id": "OiehSK-ecJxI",
        "outputId": "4914ae5d-0ecc-436e-b66b-e5ee20bc0dff"
      },
      "execution_count": null,
      "outputs": [
        {
          "output_type": "stream",
          "name": "stdout",
          "text": [
            "False\n",
            "True\n"
          ]
        }
      ]
    },
    {
      "cell_type": "markdown",
      "source": [
        "---\n",
        "\n",
        "\n",
        "<center>\n",
        "\n",
        "**Reto:** *Crea un programa de comprobación de la pureza del oro y su relación correspondiente en quilates.*\n",
        "\n",
        "*Esta es la tabla de pureza que se usará:*\n",
        "\n",
        "*24K - 99.9%*\n",
        "\n",
        "*22K - 91.7%*\n",
        "\n",
        "*20K - 83.3%*\n",
        "\n",
        "*18K - 75.0%*\n",
        "\n",
        "*Si el porcentraje está entre 75.0 y 83,3, se considera que el oro es de 18K. Si está mayor de 83.3 y 91.7, entonces es 20K, y así sucesivamente.*\n",
        "\n",
        "*Dado el porcentaje como entrada, genera el valor de quilates correspondiente, incluyendo la letra K.*\n",
        "\n",
        "\n",
        "---"
      ],
      "metadata": {
        "id": "PzUBGYBjeaGz"
      }
    },
    {
      "cell_type": "code",
      "source": [
        "purity=float(input())\n",
        "if purity >= 75.0 and purity <= 83.3:\n",
        "  print(\"18K\")\n",
        "elif purity > 83.3 and purity <= 91.7:\n",
        "  print(\"22K\")\n",
        "elif purity > 91.7 and purity < 99.9:\n",
        "  print(\"20K\")\n",
        "else:\n",
        "  if purity >= 99.9:\n",
        "    print(\"24K\")"
      ],
      "metadata": {
        "colab": {
          "base_uri": "https://localhost:8080/"
        },
        "id": "KRvH1Tk6fU2_",
        "outputId": "ae2fadfb-3853-403d-e990-c988f01f616e"
      },
      "execution_count": null,
      "outputs": [
        {
          "output_type": "stream",
          "name": "stdout",
          "text": [
            "88.6\n",
            "22K\n"
          ]
        }
      ]
    },
    {
      "cell_type": "markdown",
      "source": [
        "Y para terminar un ejemplo de código:"
      ],
      "metadata": {
        "id": "qXnBQ8gZgLaH"
      }
    },
    {
      "cell_type": "code",
      "source": [
        "if not True:\n",
        " print(\"1\")\n",
        "elif not (1+1 == 3):\n",
        " print(\"2\")\n",
        "else:\n",
        "  print(\"3\")"
      ],
      "metadata": {
        "id": "FtggFAPSgV11",
        "colab": {
          "base_uri": "https://localhost:8080/"
        },
        "outputId": "6c36d914-c885-484d-d61a-454d37bc12b0"
      },
      "execution_count": null,
      "outputs": [
        {
          "output_type": "stream",
          "name": "stdout",
          "text": [
            "2\n"
          ]
        }
      ]
    },
    {
      "cell_type": "markdown",
      "source": [
        "---\n",
        "\n",
        "**Bucles WHILE:** Se usa para repetir un bloque de código varias veces. Por ejemplo, digamos que necesitamos procesar múltiples entradas del usuario de modo que cada vez que el usuario introduzca algo, el mismo bloque de código debe ejecutarse.\n",
        "Aquí hay un bucle **while** que contiene una variable que cuenta de 1 a 5, momento en el que el bucle termina."
      ],
      "metadata": {
        "id": "DVoYGtxkgsdM"
      }
    },
    {
      "cell_type": "code",
      "source": [
        "i = 1\n",
        "while i <= 5: #en este punto empieza el bucle hasta que termine la condición.\n",
        "  print(i)\n",
        "  i = i + 1\n",
        "print(\"Finished!\")"
      ],
      "metadata": {
        "colab": {
          "base_uri": "https://localhost:8080/"
        },
        "id": "KMQib0TajLZd",
        "outputId": "e9c880c6-ae71-4842-caff-46e5d21c3ab3"
      },
      "execution_count": null,
      "outputs": [
        {
          "output_type": "stream",
          "name": "stdout",
          "text": [
            "1\n",
            "2\n",
            "3\n",
            "4\n",
            "5\n",
            "Finished!\n"
          ]
        }
      ]
    },
    {
      "cell_type": "markdown",
      "source": [
        "Durante cada iteración del bucle, la variable i se incrementa en uno, hasta llegar a 5. Así el bucle ejecutará la declaración print 5 veces.\n",
        "\n",
        "Nota: El código en el cuerpo de un bucle while se ejecuta repetidamente. Esto se llama **iteración**."
      ],
      "metadata": {
        "id": "jSRpwtvCjo6w"
      }
    },
    {
      "cell_type": "markdown",
      "source": [
        "¿Cuántos números imprime este código?"
      ],
      "metadata": {
        "id": "92-ojXNrk77L"
      }
    },
    {
      "cell_type": "code",
      "source": [
        "i=3\n",
        "while i>=0:\n",
        "  print(i)\n",
        "  i = i - 1"
      ],
      "metadata": {
        "colab": {
          "base_uri": "https://localhost:8080/"
        },
        "id": "iNtjcreik4UK",
        "outputId": "bb72ff91-7fa3-4717-ca01-a66267dcd051"
      },
      "execution_count": null,
      "outputs": [
        {
          "output_type": "stream",
          "name": "stdout",
          "text": [
            "3\n",
            "2\n",
            "1\n",
            "0\n"
          ]
        }
      ]
    },
    {
      "cell_type": "markdown",
      "source": [
        "Algo interesante es que se pueden utilizar varias declaraciones en un bucle while.\n",
        "\n",
        "Digamos que necesitas usar una declaración if para tomar decisiones. Lo cual es especialmente útil en cosas como los juegos, en los que puede ser necesario hacer un bucle a través de una serie de acciones del jugador y añadir o quitar puntos a la puntuación del jugador.\n",
        "\n",
        "Mira este código, que utiliza una declaración if/else dentro de un bucle while para separar los números pares e impares en el rango de 1 a 10:"
      ],
      "metadata": {
        "id": "eep-_ZXYlVZL"
      }
    },
    {
      "cell_type": "code",
      "source": [
        "x = 1\n",
        "while x < 10:\n",
        "  if x%2 == 0:\n",
        "    print(str(x) + \" is even\") #se utiliza str() para convertir el número x en una cadena, para que pueda ser utilizado para la concatenación.\n",
        "  else:\n",
        "    print(str(x) + \" is odd\")\n",
        "\n",
        "  x += 1"
      ],
      "metadata": {
        "colab": {
          "base_uri": "https://localhost:8080/"
        },
        "id": "lq6mOQrXl4W5",
        "outputId": "c792584d-df61-4499-c11a-5765d3db88ef"
      },
      "execution_count": null,
      "outputs": [
        {
          "output_type": "stream",
          "name": "stdout",
          "text": [
            "1 is odd\n",
            "2 is even\n",
            "3 is odd\n",
            "4 is even\n",
            "5 is odd\n",
            "6 is even\n",
            "7 is odd\n",
            "8 is even\n",
            "9 is odd\n"
          ]
        }
      ]
    },
    {
      "cell_type": "markdown",
      "source": [
        "<center>\n",
        "\n",
        "---\n",
        "**Reto:** *¡Estás haciendo un juego! El jugador intenta disparar a un objeto y puede hit (golpearlo) o miss (fallarlo).*\n",
        "\n",
        "\n",
        "*El jugador comienza con 100 puntos, con un acierto sumando 10 puntos a la puntuación del jugador y un fallo restando 20 puntos. Su programa necesita tomar 4 resultados de acción como entrada (\"hit\" o \"miss\"), calcular y generar los puntos restantes del jugador.*\n",
        "\n",
        "*Ejemplo de entrada: hit, hit, miss y hit - Ejemplo de salida 110*\n",
        "\n",
        "---"
      ],
      "metadata": {
        "id": "2V5SddYNpvFV"
      }
    },
    {
      "cell_type": "code",
      "source": [
        "i=0\n",
        "x=100 #se declaran los puntos iniciales del juego\n",
        "while i < 4: #la declaración colocaría primero la condición de cantidad de oportunidades, en este caso 4 sería el contador iniciando desde 0.\n",
        "  text = input() #se crea un input de texto de hit o miss\n",
        "  if text == \"hit\": #si es hit empieza a ejecutarse el if\n",
        "    x = x + 10\n",
        "    i = i + 1 #va iniciando el contador para las 4 oportunidades\n",
        "  else:\n",
        "    x = x - 20\n",
        "    i = i + 1 #va iniciando el contador para las 4 oportunidades\n",
        "print(x)"
      ],
      "metadata": {
        "colab": {
          "base_uri": "https://localhost:8080/"
        },
        "id": "tAt0U45MqRxP",
        "outputId": "c150651e-7dbe-4334-9507-48fb7e2ba9a7"
      },
      "execution_count": null,
      "outputs": [
        {
          "output_type": "stream",
          "name": "stdout",
          "text": [
            "hit\n",
            "hit\n",
            "miss\n",
            "hit\n",
            "110\n"
          ]
        }
      ]
    },
    {
      "cell_type": "markdown",
      "source": [
        "\n",
        "\n",
        "---\n",
        "**Break:**\n",
        "Aunque los bucles infinitos pueden ser de gran utilidad, no siempre realmente son útiles.\n",
        "Para terminar un bucle *while* prematuramente, podemos utilizar una declaración *break*. Por ejemplo, se puede romper un bucle infinito si se cumple alguna condición:"
      ],
      "metadata": {
        "id": "2DE8kTNRsQBo"
      }
    },
    {
      "cell_type": "code",
      "source": [
        "i=0\n",
        "while True:\n",
        "  print(i)\n",
        "  i = i + 1 #empieza a sumar los i-ésimos valores comenzando desde el 0, hasta que se cumpla la condición de la siguiente línea.\n",
        "  if i >= 5:\n",
        "    print(\"Breaking\")\n",
        "    break\n",
        "\n",
        "print(\"Finished\")"
      ],
      "metadata": {
        "colab": {
          "base_uri": "https://localhost:8080/"
        },
        "id": "Evhfgfwtbjuo",
        "outputId": "1e61ae4a-c8c6-4219-958d-cdde96f0c37b"
      },
      "execution_count": null,
      "outputs": [
        {
          "output_type": "stream",
          "name": "stdout",
          "text": [
            "0\n",
            "1\n",
            "2\n",
            "3\n",
            "4\n",
            "Breaking\n",
            "Finished\n"
          ]
        }
      ]
    },
    {
      "cell_type": "markdown",
      "source": [
        "*While True* es una forma corta y fácil de hacer un bucle infinito.\n",
        "\n",
        "Un ejemplo de uso de *break*:\n",
        "Un bucle while infinito puede ser utilizado para tomar continuamente la entrada del usuario. Por ejemplo, si estás haciendo una calculadora y necesitas tomar números del usuario para sumar y parar, cuando el usuario ingresa \"stop\".\n",
        "\n",
        "En este caso, la declaración *break* se puede utilizar para termiar el bucle infinito cuando la entrada del usuario es igual a \"stop\".\n",
        "\n",
        "**Nota importante:** Usar la declaración *break* fuera de un bucle provoca un error.\n",
        "\n",
        "\n",
        "\n",
        "---\n",
        "\n",
        "**Continue:** A diferencia del break, *continue* salta de nuevo a la parte superior del bucle, en lugar de detenerlo. Básicamente, la declaración *continue* detiene la iteración actual y continúa con la siguiente:"
      ],
      "metadata": {
        "id": "uSwuQLHbcLfp"
      }
    },
    {
      "cell_type": "code",
      "source": [
        "i=1\n",
        "while i<=5:\n",
        "  print(i)\n",
        "  i+=1\n",
        "  if i==3:\n",
        "   print(\"Skipping 3\")\n",
        "   continue"
      ],
      "metadata": {
        "colab": {
          "base_uri": "https://localhost:8080/"
        },
        "id": "trhluKiuduff",
        "outputId": "b45b1747-6a82-4566-b735-acf17e9d7ec5"
      },
      "execution_count": null,
      "outputs": [
        {
          "output_type": "stream",
          "name": "stdout",
          "text": [
            "1\n",
            "2\n",
            "Skipping 3\n",
            "3\n",
            "4\n",
            "5\n"
          ]
        }
      ]
    },
    {
      "cell_type": "markdown",
      "source": [
        "**Un ejemplo de uso de continue:**\n",
        "Un sistema de emisión de billetes de avión debe calcular el coste total de todos los billetes comprados. Los billetes para los niños menores de 3 años son gratuitos. Podemos utilizar un bucle while para recorrer la lista de pasajeros y calcular el coste total de sus billetes. En este caso la declaración *continue* se puede utilizar para saltar a los niños.\n",
        "\n",
        "\n",
        "**Nota importante:** Usar la declaración *continue* fuera de un bucle provoca un error."
      ],
      "metadata": {
        "id": "lRYeGNUCeR-C"
      }
    },
    {
      "cell_type": "markdown",
      "source": [
        "<center>\n",
        "\n",
        "---\n",
        "**Reto:** *Estás haciendo un sistema de entradas. El precio de la entrada individual es de 100 dólares. Pero para los niños menores de 3 años, la entrada es gratuita.*\n",
        "\n",
        "\n",
        "*El programa necesita tomar las edades de 5 pasajeros como entrada y generar el precio total de tus entradas.*\n",
        "\n",
        "*Ejemplo de entrada: 18, 24, 2, 5, 42* - *Ejemplo de salida:400*\n",
        "\n",
        "---"
      ],
      "metadata": {
        "id": "xzorHOXFpqvX"
      }
    },
    {
      "cell_type": "code",
      "source": [
        "i=0\n",
        "x=0\n",
        "while i<=4:\n",
        "  text=int(input(\"Escriba su edad: \"))\n",
        "  i+=1\n",
        "  if text < 3:\n",
        "    continue\n",
        "  else:\n",
        "    x = x + 100\n",
        "print(x)"
      ],
      "metadata": {
        "colab": {
          "base_uri": "https://localhost:8080/"
        },
        "id": "pIKWSbBBd7XV",
        "outputId": "029822ea-6ae9-4a7a-b3ae-ebab6dad5675"
      },
      "execution_count": null,
      "outputs": [
        {
          "output_type": "stream",
          "name": "stdout",
          "text": [
            "Escriba su edad: 3\n",
            "Escriba su edad: 3\n",
            "Escriba su edad: 2\n",
            "Escriba su edad: 1\n",
            "Escriba su edad: 10\n",
            "300\n"
          ]
        }
      ]
    },
    {
      "cell_type": "markdown",
      "source": [
        "\n",
        "\n",
        "---\n",
        "\n",
        "# **Módulo 5: Listas(list)**\n",
        "\n",
        "Las *listas* se utilizan para almacenar artículos. Podemos crear una lista utilizando corchetes con comas separando elementos. Así:"
      ],
      "metadata": {
        "id": "b82Bl5jpslw9"
      }
    },
    {
      "cell_type": "code",
      "source": [
        "words = [\"Hello\", \"world\", \"!\"]"
      ],
      "metadata": {
        "id": "xkN6jv3EtLIe"
      },
      "execution_count": null,
      "outputs": []
    },
    {
      "cell_type": "markdown",
      "source": [
        "En este ejemplo, la lista de palabras contiene tres elementos de *cadena*: Hello, world y !.\n",
        "\n",
        "Si quieres acceder a un determinado elemento de la lista (comenzando desde el elemento 0 de izquierda a derecha), puedes hacerlo utilizando su índice entre corchetes. En este ejemplo, esto se vería así:"
      ],
      "metadata": {
        "id": "mK5tRtGftYhI"
      }
    },
    {
      "cell_type": "code",
      "source": [
        "words = [\"Hello\", \"world\", \"!\"]\n",
        "print(words[0]) #Aquí se selecciona el elemento 0 de la fila de la lista words\n",
        "print(words[1]) #Aquí se selecciona el elemento 1 de la fila de la lista words\n",
        "print(words[2]) #Aquí se selecciona el elemento 2 de la fila de la lista words"
      ],
      "metadata": {
        "colab": {
          "base_uri": "https://localhost:8080/"
        },
        "id": "tegZfwmqtWdW",
        "outputId": "077ffa26-6c17-44bd-b804-7edaaa107d08"
      },
      "execution_count": null,
      "outputs": [
        {
          "output_type": "stream",
          "name": "stdout",
          "text": [
            "Hello\n",
            "world\n",
            "!\n"
          ]
        }
      ]
    },
    {
      "cell_type": "markdown",
      "source": [
        "Se pueden hacer cosas muy interesantes con ellas en Python. Por ejemplo, se pueden utilizar listas anidadas para representar cuadrículas 2D, como las matrices."
      ],
      "metadata": {
        "id": "-S5bu9kNt7Zl"
      }
    },
    {
      "cell_type": "code",
      "source": [
        "m = [\n",
        "    [1, 2, 3], #fila 0 con tres columnas comenzando desde 0, 1 y 2\n",
        "    [4, 5, 6]  #fila 1 con tres columnas comenzando desde 0, 1 y 2\n",
        "]\n",
        "print(m[1][2]) #Aquí se selecciona el elemento de la matriz de componentes FILA 1 y COLUMNA 2"
      ],
      "metadata": {
        "colab": {
          "base_uri": "https://localhost:8080/"
        },
        "id": "_rzhavIatxN_",
        "outputId": "97777eeb-f210-4703-bc87-2cac45820acc"
      },
      "execution_count": null,
      "outputs": [
        {
          "output_type": "stream",
          "name": "stdout",
          "text": [
            "6\n"
          ]
        }
      ]
    },
    {
      "cell_type": "markdown",
      "source": [
        "<center>\n",
        "\n",
        "---\n",
        "**Reto:** *los asientos de tu programa de ventas de entradas se almacenan en una lista 2D. A cada asiento se le asigna un código de letras.*\n",
        "\n",
        "\n",
        "*Completa el programa para tomar la fila y la columna del asiento como entrada y generar el código correspondiente de la lista (los índices de la fila y la columna empiezan por 0).*\n",
        "\n",
        "*Ejemplo de entrada: 3, 2* - *Ejemplo de salida: k*\n",
        "\n",
        "---"
      ],
      "metadata": {
        "id": "OrNkYQEHwS_O"
      }
    },
    {
      "cell_type": "code",
      "source": [
        "seats = [ #asientos\n",
        "['a', 'b', 'c'],\n",
        "['d', 'e', 'f'],\n",
        "['g', 'h', 'i'],\n",
        "['j', 'k', 'l']\n",
        "]\n",
        "\n",
        "row = int(input())\n",
        "column = int(input())\n",
        "print(seats[row][column])"
      ],
      "metadata": {
        "colab": {
          "base_uri": "https://localhost:8080/"
        },
        "id": "X8290fNjunor",
        "outputId": "7b1f383b-7558-40f8-9419-a4d66f9e0436"
      },
      "execution_count": null,
      "outputs": [
        {
          "output_type": "stream",
          "name": "stdout",
          "text": [
            "0\n",
            "1\n",
            "b\n"
          ]
        }
      ]
    },
    {
      "cell_type": "markdown",
      "source": [
        "\n",
        "\n",
        "---\n",
        "\n",
        "Las cadenas (strings) también se pueden indexar como listas.\n",
        "\n",
        "Indexar una cadena es como crear una lista que contenga cada carácter de la cadena.\n"
      ],
      "metadata": {
        "id": "Vd_yupYXyahF"
      }
    },
    {
      "cell_type": "code",
      "source": [
        "str = \"Hello world!\"\n",
        "print(str[6]) #En este caso selecciona el carácter 6 del texto comenzando desde la 'H' que sería el carácter número 0 hacia la derecha aumentando."
      ],
      "metadata": {
        "id": "eWaKUvgfyOXJ",
        "colab": {
          "base_uri": "https://localhost:8080/"
        },
        "outputId": "cba8c93e-9286-4f1c-b381-36d6331cb98b"
      },
      "execution_count": null,
      "outputs": [
        {
          "output_type": "stream",
          "name": "stdout",
          "text": [
            "w\n"
          ]
        }
      ]
    },
    {
      "cell_type": "code",
      "source": [
        "x = \"Python\"\n",
        "print(x[1] + x[4])"
      ],
      "metadata": {
        "colab": {
          "base_uri": "https://localhost:8080/"
        },
        "id": "hBKh90_Z_mue",
        "outputId": "e9172bcc-85fa-4dfa-8779-a08c76d32344"
      },
      "execution_count": null,
      "outputs": [
        {
          "output_type": "stream",
          "name": "stdout",
          "text": [
            "yo\n"
          ]
        }
      ]
    },
    {
      "cell_type": "markdown",
      "source": [
        "**Operaciones de listas:** Las listas también se pueden sumar y multiplicar del mismo modo que las cadenas:"
      ],
      "metadata": {
        "id": "PErOgjvvAK5P"
      }
    },
    {
      "cell_type": "code",
      "source": [
        "nums = [1,2,3]\n",
        "print(nums + [4,5,6])\n",
        "print(nums * 3) #No es que los valores de cada lista se multipliquen por 3, sino que se repiten tres veces la lista en una nueva lista"
      ],
      "metadata": {
        "colab": {
          "base_uri": "https://localhost:8080/"
        },
        "id": "u3spaMqhAEFz",
        "outputId": "9668af44-63b6-40f5-c38c-9e2e94c09aea"
      },
      "execution_count": null,
      "outputs": [
        {
          "output_type": "stream",
          "name": "stdout",
          "text": [
            "[1, 2, 3, 4, 5, 6]\n",
            "[1, 2, 3, 1, 2, 3, 1, 2, 3]\n"
          ]
        }
      ]
    },
    {
      "cell_type": "markdown",
      "source": [
        "Las listas y las cadenas comparten muchas similitudes: básicamente puedes pensar en las cadenas como listas de caracteres que no se pueden modificar. Como ejemplo podemos pensar en la cadena \"Hello\" en donde puede considerarse como una lista, en la que cada carácter es un elemento de la lista. El primer elemento es \"H\", el segundo elemento es \"e\", y así sucesivamente."
      ],
      "metadata": {
        "id": "XHW-M-nkBNBf"
      }
    },
    {
      "cell_type": "markdown",
      "source": [
        "<center>\n",
        "\n",
        "---\n",
        "**Reto:** *Es necesario tomar el nombre y el apellido de una persona como entrada y generar las iniciales (primeras letras del nombre y del apellido)*\n",
        "\n",
        "\n",
        "*Ejemplo de entrada: James Smith* - *Ejemplo de salida: J.S.*\n",
        "\n",
        "---"
      ],
      "metadata": {
        "id": "zsmC2gEpB1Jj"
      }
    },
    {
      "cell_type": "code",
      "source": [
        "fname = input()\n",
        "lname = input()\n",
        "print(fname[0] + \".\" + lname[0] + \".\")"
      ],
      "metadata": {
        "colab": {
          "base_uri": "https://localhost:8080/"
        },
        "id": "uCmMFfN0AXJC",
        "outputId": "e8a2bb10-0317-4359-c18c-dab2e2c539b4"
      },
      "execution_count": null,
      "outputs": [
        {
          "output_type": "stream",
          "name": "stdout",
          "text": [
            "Nicolás\n",
            "Pérez\n",
            "N.P.\n"
          ]
        }
      ]
    },
    {
      "cell_type": "code",
      "source": [
        "x = [2, 4]\n",
        "x += [6, 8] # se añaden los nuevos dos elementos a la lista quedando compuesta por [2, 4, 6, 8]\n",
        "print(x[2]//x[0]) # se calcula el cociente exacto obtenido entre la división de los elementos seleccionados de la lista."
      ],
      "metadata": {
        "colab": {
          "base_uri": "https://localhost:8080/"
        },
        "id": "iIj8A8l2Cf5p",
        "outputId": "e6732c96-2b39-423c-9be0-af31550c9d27"
      },
      "execution_count": null,
      "outputs": [
        {
          "output_type": "stream",
          "name": "stdout",
          "text": [
            "3\n"
          ]
        }
      ]
    },
    {
      "cell_type": "markdown",
      "source": [
        "**IN:** Para comprobar si un elemento está en una lista determinada, podemos utilizar el operador **in**. Así, el operador in también se utiliza para determinar si una cadena es o no una subcadena de otra cadena.\n",
        "\n",
        "Devuelve True(true) si el elemento aparece una o más veces en la lista, y False(false) si no lo hace. Así:"
      ],
      "metadata": {
        "id": "6eub9kyxCoXk"
      }
    },
    {
      "cell_type": "code",
      "source": [
        "words = [\"spam\", \"egg\", \"spam\", \"sausage\"]\n",
        "print(\"spam\" in words)\n",
        "print(\"egg\" in words)\n",
        "print(\"tomato\" in words)"
      ],
      "metadata": {
        "colab": {
          "base_uri": "https://localhost:8080/"
        },
        "id": "wDRf_aq4ECBW",
        "outputId": "25d47db0-a629-4824-977f-9f2dcc9db376"
      },
      "execution_count": null,
      "outputs": [
        {
          "output_type": "stream",
          "name": "stdout",
          "text": [
            "True\n",
            "True\n",
            "False\n"
          ]
        }
      ]
    },
    {
      "cell_type": "code",
      "source": [
        "nums= [10, 9, 8, 7, 6, 5]\n",
        "nums[0] = nums[1] - 5 #se cambia el elemento de lista 0 en la operación relacionada al lado derecho de la igualdad. Por lo que sería intermbiar el valor de 10 por 4.\n",
        "print(nums)\n",
        "if 4 in nums:\n",
        " print(nums[3]) #como la list incluye ahora el valor de 4, entonces es True y se imprime el elemento número 3 de la lista, o sea el número 7.\n",
        "else:\n",
        " print(nums[4])"
      ],
      "metadata": {
        "colab": {
          "base_uri": "https://localhost:8080/"
        },
        "id": "JgPfJzziEJTn",
        "outputId": "f8a974fe-694e-4252-f288-b4912f85f97a"
      },
      "execution_count": null,
      "outputs": [
        {
          "output_type": "stream",
          "name": "stdout",
          "text": [
            "[4, 9, 8, 7, 6, 5]\n",
            "7\n"
          ]
        }
      ]
    },
    {
      "cell_type": "markdown",
      "source": [
        "Del mismo modo, para comprobar si un elemeto no está en una lista, puede utilizar el operador **not** de una de las siguientes maneras:"
      ],
      "metadata": {
        "id": "13hnmRpsJfiT"
      }
    },
    {
      "cell_type": "code",
      "source": [
        "nums = [1,2,3]\n",
        "print(not 4 in nums)\n",
        "print(4 not in nums)\n",
        "print(not 3 in nums)\n",
        "print(3 not in nums)"
      ],
      "metadata": {
        "colab": {
          "base_uri": "https://localhost:8080/"
        },
        "id": "J6dFOpToI5U4",
        "outputId": "e834c204-8b6f-4d94-8fae-9db0cc8102ce"
      },
      "execution_count": null,
      "outputs": [
        {
          "output_type": "stream",
          "name": "stdout",
          "text": [
            "True\n",
            "True\n",
            "False\n",
            "False\n"
          ]
        }
      ]
    },
    {
      "cell_type": "markdown",
      "source": [
        "<center>\n",
        "\n",
        "---\n",
        "**Reto:** *Estás haciendo un sistema de reconocimiento de voz. Los comandos admitidos se almacenan en una lista.*\n",
        "\n",
        "*Completa el programa para tomar un comando como entrada, comprobar si es compatible y generar \"OK\", si lo es, y \"Not supported\", si no.*\n",
        "\n",
        "\n",
        "*Ejemplo de entrada: Lights Off* - *Ejemplo de salida: OK*\n",
        "\n",
        "---"
      ],
      "metadata": {
        "id": "aPc1RZVYKUip"
      }
    },
    {
      "cell_type": "code",
      "source": [
        "a=input()\n",
        "commands = [\"Lights Off\", \"Lock the door\", \"Open the door\", \"Make Coffee\", \"Shut down\"]\n",
        "if (a in commands):\n",
        "  print(\"OK\")\n",
        "elif (a not in commands):\n",
        "  print(\"Not supported\")"
      ],
      "metadata": {
        "colab": {
          "base_uri": "https://localhost:8080/"
        },
        "id": "ARoPNJIXJwaB",
        "outputId": "6d01a0ec-d7f1-4e42-d7aa-55d1d8a4a400"
      },
      "execution_count": null,
      "outputs": [
        {
          "output_type": "stream",
          "name": "stdout",
          "text": [
            "Lock the door\n",
            "OK\n"
          ]
        }
      ]
    },
    {
      "cell_type": "markdown",
      "source": [
        "\n",
        "\n",
        "---\n",
        "\n",
        "**Bucles FOR:** El bucle *for* se utiliza para iterar sobre una secuencia dada, como listas o cadenas. El código que se muestra a continuación genera cada elemento de la lista y añade un signo de exclamación al final:"
      ],
      "metadata": {
        "id": "DGjUjeYwLnZ6"
      }
    },
    {
      "cell_type": "code",
      "source": [
        "words = [\"Hello\", \"world\", \"spam\", \"eggs\"]\n",
        "for word in words:\n",
        "  print(word + \"!\")"
      ],
      "metadata": {
        "id": "RnJHbY6UL0RW",
        "colab": {
          "base_uri": "https://localhost:8080/"
        },
        "outputId": "012cc49d-7138-4566-c9dd-9b079058338c"
      },
      "execution_count": null,
      "outputs": [
        {
          "output_type": "stream",
          "name": "stdout",
          "text": [
            "Hello!\n",
            "world!\n",
            "spam!\n",
            "eggs!\n"
          ]
        }
      ]
    },
    {
      "cell_type": "markdown",
      "source": [
        "En el código anterior, la variable *word* representa el elemento correspondiente de la lista en cada iteración del bucle.\n",
        "\n",
        "Durante la 1a iteración, *word* es igual a \"Hello\" y durante la 2da iteración es igual a \"world\", y así sucesivamente."
      ],
      "metadata": {
        "id": "E6OyJWupilBG"
      }
    },
    {
      "cell_type": "code",
      "source": [
        "letters = ['a', 'b', 'c']\n",
        "for l in letters:\n",
        "  print(l)"
      ],
      "metadata": {
        "colab": {
          "base_uri": "https://localhost:8080/"
        },
        "id": "4yfwC0TkiWJ1",
        "outputId": "ffc79f06-0c84-490d-adf1-40c735c8a737"
      },
      "execution_count": null,
      "outputs": [
        {
          "output_type": "stream",
          "name": "stdout",
          "text": [
            "a\n",
            "b\n",
            "c\n"
          ]
        }
      ]
    },
    {
      "cell_type": "markdown",
      "source": [
        "Un bucle for puede utilizarse para iterar sobre cadenas."
      ],
      "metadata": {
        "id": "Y0g8kXHIjbhv"
      }
    },
    {
      "cell_type": "code",
      "source": [
        "str = \"testing for loops\"\n",
        "count = 0\n",
        "\n",
        "for x in str:\n",
        "  if(x == 't'):\n",
        "    count += 1\n",
        "\n",
        "print(count)"
      ],
      "metadata": {
        "colab": {
          "base_uri": "https://localhost:8080/"
        },
        "id": "oGPsbeYyjXAS",
        "outputId": "96b8defb-b499-4bb5-e2fe-4ac06495d3e9"
      },
      "execution_count": null,
      "outputs": [
        {
          "output_type": "stream",
          "name": "stdout",
          "text": [
            "2\n"
          ]
        }
      ]
    },
    {
      "cell_type": "markdown",
      "source": [
        "El código anterior define una variable *count* que itera sobre la cadena y calcula la cuenta de \"t\" letras en él. Durante cada iteración, la variable x representa la letra actual de la cadena.\n",
        "\n",
        "La variable count se incrementa cada vez que la letra \"t\" es encontrada, por lo que al final del bucle representa el número de \"t\" letras en la cadena.\n",
        "\n",
        "Nota: Similar a los bucles while, las declaraciones break y continue pueden utilizarse en bucles for para detener el bucle o saltar a la siguiente iteración."
      ],
      "metadata": {
        "id": "lwa-0nunkIv6"
      }
    },
    {
      "cell_type": "markdown",
      "source": [
        "<center>\n",
        "\n",
        "---\n",
        "**Reto:** *Estás haciendo un programa de carrito de la compra.*\n",
        "\n",
        "*El carrito de la compra se declara como una lista de precios, y hay que añadir una funcionalidad para aplicar un descuento y mostrar el precio total.*\n",
        "\n",
        "\n",
        "*Toma el porcentaje de descuento como entrada, calcula y genera el precio total para el carrito de compra.*\n",
        "\n",
        "*Nota: Utiliza un bucle for para iterar sobre la lista. Utiliza la siguiente fórmula para calcular el resultado de X% descuento en $Y precio: Y - (Y*X/100)*\n",
        "\n",
        "---"
      ],
      "metadata": {
        "id": "o1m3uP1MlTy8"
      }
    },
    {
      "cell_type": "code",
      "source": [
        "cart = [15, 42, 120, 9, 5, 380]\n",
        "discount = int(input())\n",
        "total = 0\n",
        "for c in cart:\n",
        " total = total + (c - c*discount/100)\n",
        "print(total)"
      ],
      "metadata": {
        "colab": {
          "base_uri": "https://localhost:8080/"
        },
        "id": "Vr3aogFUj6Gc",
        "outputId": "7e210332-a90e-4e21-f6e5-4aa39aa1dd08"
      },
      "execution_count": null,
      "outputs": [
        {
          "output_type": "stream",
          "name": "stdout",
          "text": [
            "15\n",
            "485.35\n"
          ]
        }
      ]
    },
    {
      "cell_type": "code",
      "source": [
        "list = [2, 3, 4, 5, 6, 7] #otro ejemplo para cumplir las condiciones específicas\n",
        "\n",
        "for x in list:\n",
        "  if(x%2==1 and x>4):\n",
        "    print(x)\n",
        "    break"
      ],
      "metadata": {
        "colab": {
          "base_uri": "https://localhost:8080/"
        },
        "id": "-MlixsXYmyWD",
        "outputId": "192473e8-9117-4b7b-cdc4-966a5233a009"
      },
      "execution_count": null,
      "outputs": [
        {
          "output_type": "stream",
          "name": "stdout",
          "text": [
            "5\n"
          ]
        }
      ]
    },
    {
      "cell_type": "markdown",
      "source": [
        "**For vs While:** Se usan los bucles *for* cuando el número de iteraciones es fijo. Por ejemplo, iterar sobre una lista fija de artículos en una lista de compra.\n",
        "\n",
        "El bucle *while* es útil en los casos en que el número de iteraciones no se conoce y depende de algunos cálculos y condiciones en el bloque de código del bucle.\n",
        "\n",
        "Por ejemplo, terminar el bucle cuando el usuario introduce una entrada específica en un programa de calculadora.\n",
        "\n",
        "*Nota:* Mientras que ambos, el bucle for y while se puede utilizar para lograr los mismos resultados, sin embargo el bucle for tiene una sintaxis más limpia y corta, por lo que es una mejor opción en la mayoría de los casos.\n",
        "\n",
        "\n",
        "\n",
        "---\n",
        "\n",
        "\n"
      ],
      "metadata": {
        "id": "DT9y3xe85YnB"
      }
    },
    {
      "cell_type": "markdown",
      "source": [
        "**Rango (Range):** Sirve para crear secuencias de números utilizando la función **range()**. Por defecto, comienza con 0, se incrementa en 1 y se detiene antes del número especificado.\n",
        "\n",
        "El siguiente código genera una lista que contiene todos los enteros, hasta 10."
      ],
      "metadata": {
        "id": "IIfD677_jYs-"
      }
    },
    {
      "cell_type": "code",
      "source": [
        "numbers = list(range(10))\n",
        "print(numbers)"
      ],
      "metadata": {
        "colab": {
          "base_uri": "https://localhost:8080/"
        },
        "id": "p2tvGv0Xj1Dk",
        "outputId": "204bfdf7-d718-44b5-bd6a-3b3cc2dd3f75"
      },
      "execution_count": null,
      "outputs": [
        {
          "output_type": "stream",
          "name": "stdout",
          "text": [
            "[0, 1, 2, 3, 4, 5, 6, 7, 8, 9]\n"
          ]
        }
      ]
    },
    {
      "cell_type": "markdown",
      "source": [
        "Para que el rango salga como una lista, se tiene que convertir explicitamente en una lista, utilizando la función **list()**."
      ],
      "metadata": {
        "id": "w1SFhUqHk652"
      }
    },
    {
      "cell_type": "code",
      "source": [
        "nums = list(range(5))\n",
        "print(nums[4])"
      ],
      "metadata": {
        "colab": {
          "base_uri": "https://localhost:8080/"
        },
        "id": "_2L9ow8ikhiu",
        "outputId": "746fd829-b1b2-4fef-d06c-363fbe0fdea2"
      },
      "execution_count": null,
      "outputs": [
        {
          "output_type": "stream",
          "name": "stdout",
          "text": [
            "4\n"
          ]
        }
      ]
    },
    {
      "cell_type": "markdown",
      "source": [
        "Se puede especificar con un argumento de dos valores desde dónde y hasta dónde se quiere barrer en la lista de números:"
      ],
      "metadata": {
        "id": "F0_IsqOJlbar"
      }
    },
    {
      "cell_type": "code",
      "source": [
        "numbers = list(range(3,8)) #se debe tener en cuenta que el segundo argumento no está incluido dentro del rango, por lo que no se incluye el valor de 8.\n",
        "print(numbers)"
      ],
      "metadata": {
        "colab": {
          "base_uri": "https://localhost:8080/"
        },
        "id": "W1Zgc7eNlSAt",
        "outputId": "1e835490-66e8-470b-bb45-be536a263ed1"
      },
      "execution_count": null,
      "outputs": [
        {
          "output_type": "stream",
          "name": "stdout",
          "text": [
            "[3, 4, 5, 6, 7]\n"
          ]
        }
      ]
    },
    {
      "cell_type": "markdown",
      "source": [
        "También existe un tercer argumento que se puede utilizar con range() y es el *step*, por lo que determina el intervalo de la secuencia producida:"
      ],
      "metadata": {
        "id": "WZmIyfonmSF1"
      }
    },
    {
      "cell_type": "code",
      "source": [
        "numbers = list(range(5, 20, 2)) #para ir de 5 a 20 (sin contar el 20) en pasos de dos en dos.\n",
        "print(numbers)"
      ],
      "metadata": {
        "colab": {
          "base_uri": "https://localhost:8080/"
        },
        "id": "nW8mglCDltip",
        "outputId": "7d363203-43ed-4dce-802f-8d1c61069dda"
      },
      "execution_count": null,
      "outputs": [
        {
          "output_type": "stream",
          "name": "stdout",
          "text": [
            "[5, 7, 9, 11, 13, 15, 17, 19]\n"
          ]
        }
      ]
    },
    {
      "cell_type": "code",
      "source": [
        "numbers = list(range(20, 5, -2))  #ejemplo para contar hacia atrás\n",
        "print(numbers)"
      ],
      "metadata": {
        "colab": {
          "base_uri": "https://localhost:8080/"
        },
        "id": "-CjvVGIbmknn",
        "outputId": "ec6dcbdf-232d-46eb-9b15-8baad8b7a25a"
      },
      "execution_count": null,
      "outputs": [
        {
          "output_type": "stream",
          "name": "stdout",
          "text": [
            "[20, 18, 16, 14, 12, 10, 8, 6]\n"
          ]
        }
      ]
    },
    {
      "cell_type": "markdown",
      "source": [
        "Particularmente junto con el bucle *for*  se utilizan juntos para repetir algún código un cierto número de veces:"
      ],
      "metadata": {
        "id": "dz97RVVHnKqm"
      }
    },
    {
      "cell_type": "code",
      "source": [
        "for i in range(5): #No hay que preocuparse por llamar a list en el objeto range cuando se utiliza un bucle for porque no se está indexando, por lo que se necesita una lista.\n",
        " print(\"hello!\")"
      ],
      "metadata": {
        "colab": {
          "base_uri": "https://localhost:8080/"
        },
        "id": "8-jMkxDKncaD",
        "outputId": "4166553f-eb60-4b68-eb90-c7faa5bed493"
      },
      "execution_count": null,
      "outputs": [
        {
          "output_type": "stream",
          "name": "stdout",
          "text": [
            "hello!\n",
            "hello!\n",
            "hello!\n",
            "hello!\n",
            "hello!\n"
          ]
        }
      ]
    },
    {
      "cell_type": "markdown",
      "source": [
        "<center>\n",
        "\n",
        "---\n",
        "**Reto:** *Un grupo de edificios tiene baños en cada 5 piso. Por ejemplo, un edificio de 12 plantas tiene baños en las plantas 5 y 10.*\n",
        "\n",
        "*Crea un programa que tome el número total de pisos como entrada y dé como resultado los pisos que tienen baños.*\n",
        "\n",
        "\n",
        "*Ejemplo de entrada: 23. Ejemplo de salida= 5, 10, 15, 20*\n",
        "\n",
        "---"
      ],
      "metadata": {
        "id": "-eBrLZF2oKCD"
      }
    },
    {
      "cell_type": "code",
      "source": [
        "n = int(input())\n",
        "nums = list(range(5,n,5))\n",
        "for x in nums:\n",
        " print(x)"
      ],
      "metadata": {
        "colab": {
          "base_uri": "https://localhost:8080/"
        },
        "id": "MPZJlf5nnsyb",
        "outputId": "af8c6add-a078-4ef4-93e7-d49b83218bb4"
      },
      "execution_count": null,
      "outputs": [
        {
          "output_type": "stream",
          "name": "stdout",
          "text": [
            "23\n",
            "5\n",
            "10\n",
            "15\n",
            "20\n"
          ]
        }
      ]
    },
    {
      "cell_type": "markdown",
      "source": [
        "\n",
        "\n",
        "---\n",
        "\n",
        "**Corte de listas:** Para recuperar valores de una lista, solo hace falta realizar un corte de lista, por medio de una indexación de la lista con *dos valores enteros separados por dos puntos*. Esto devolverá una nueva lista que contiene todos los valores de la antigua lista entre los índices."
      ],
      "metadata": {
        "id": "QBfS5cbFja-5"
      }
    },
    {
      "cell_type": "code",
      "source": [
        "squares = [0, 1, 4, 9, 16, 25, 36, 49, 64, 81]\n",
        "print(squares[2:6]) #Al igual que los argumentos para range, el primer índice proporcionado en un corte se incluye en el resultado, pero el segundo no.\n",
        "print(squares[3:8])\n",
        "print(squares[0:1])"
      ],
      "metadata": {
        "id": "YATrB2RlpEqI",
        "colab": {
          "base_uri": "https://localhost:8080/"
        },
        "outputId": "f28e9044-3edc-4e07-90f8-75a8aae73dfa"
      },
      "execution_count": null,
      "outputs": [
        {
          "output_type": "stream",
          "name": "stdout",
          "text": [
            "[4, 9, 16, 25]\n",
            "[9, 16, 25, 36, 49]\n",
            "[0]\n"
          ]
        }
      ]
    },
    {
      "cell_type": "code",
      "source": [
        "list = [\"a\", \"b\", \"c\", \"d\"]\n",
        "a = list[0:2]\n",
        "print(a)"
      ],
      "metadata": {
        "colab": {
          "base_uri": "https://localhost:8080/"
        },
        "id": "mIljjVEzl38_",
        "outputId": "7979ec6c-02e4-4963-e94d-d0497693ce32"
      },
      "execution_count": null,
      "outputs": [
        {
          "output_type": "stream",
          "name": "stdout",
          "text": [
            "['a', 'b']\n"
          ]
        }
      ]
    },
    {
      "cell_type": "markdown",
      "source": [
        "Por otro lado, para ahorrar un poco más de tiempo, se puede aplicar el siguiete truco: Si se omite el primer número de un corte, se toma como el inicio de la lista.\n",
        "Si se omite el segundo número, se considera que es el final."
      ],
      "metadata": {
        "id": "6lDw7MuIlNEX"
      }
    },
    {
      "cell_type": "code",
      "source": [
        "squares = [0, 1, 4, 9, 16, 25, 36, 49, 64, 81]\n",
        "print(squares[:7]) #toma los valores desde el inicio de la lista hasta el 6-elemento\n",
        "print(squares[7:]) #toma los valores desde el 7 elemento hasta el final de la lista"
      ],
      "metadata": {
        "colab": {
          "base_uri": "https://localhost:8080/"
        },
        "id": "xHVT2BwUk2MK",
        "outputId": "e1186ab3-48b0-4f21-831a-a533d02ea264"
      },
      "execution_count": null,
      "outputs": [
        {
          "output_type": "stream",
          "name": "stdout",
          "text": [
            "[0, 1, 4, 9, 16, 25, 36]\n",
            "[49, 64, 81]\n"
          ]
        }
      ]
    },
    {
      "cell_type": "markdown",
      "source": [
        "Al igual que con los rangos, los códigos de lista pueden incluir un tercer número, que representa el paso, para incluir sólo valores alternativos en el corte. Así:"
      ],
      "metadata": {
        "id": "H9_6KMWKmOiA"
      }
    },
    {
      "cell_type": "code",
      "source": [
        "squares = [0, 1, 4, 9, 16, 25, 36, 49, 64, 81]\n",
        "print(squares[::2]) #toma todos los valores de la lista en pasos de 2 en 2.\n",
        "print(squares[2:8:3]) #toma los valores desde el elemento 2 de la lista hasta el elemento 7 de la lista en paso de 2 en 2."
      ],
      "metadata": {
        "colab": {
          "base_uri": "https://localhost:8080/"
        },
        "id": "ESkXDbGilffY",
        "outputId": "8778adcc-55b5-4520-9445-f181eeab6884"
      },
      "execution_count": null,
      "outputs": [
        {
          "output_type": "stream",
          "name": "stdout",
          "text": [
            "[0, 4, 16, 36, 64]\n",
            "[4, 25]\n"
          ]
        }
      ]
    },
    {
      "cell_type": "markdown",
      "source": [
        "Finalmente, para incluir los valores negativos, también se pueden utilizar en el primer y segundo valor de un corte, en donde estos cuentan desde el final de la lista:"
      ],
      "metadata": {
        "id": "Jdxz4VV0noVq"
      }
    },
    {
      "cell_type": "code",
      "source": [
        "squares = [0, 1, 4, 9, 16, 25, 36, 49, 64, 81]\n",
        "print(squares[1:-1]) #Comienza desde el elemento 1 hasta el penúltimo elemento\n",
        "print(squares[::-1]) #toma todos los elementos pero invertidos comenzando del final al comienzo\n",
        "print(squares[7:5:-1])"
      ],
      "metadata": {
        "colab": {
          "base_uri": "https://localhost:8080/"
        },
        "id": "lYdld52amsOc",
        "outputId": "d219b151-1e2d-4d5e-ed46-4272062969e2"
      },
      "execution_count": null,
      "outputs": [
        {
          "output_type": "stream",
          "name": "stdout",
          "text": [
            "[1, 4, 9, 16, 25, 36, 49, 64]\n",
            "[81, 64, 49, 36, 25, 16, 9, 4, 1, 0]\n",
            "[49, 36]\n"
          ]
        }
      ]
    },
    {
      "cell_type": "markdown",
      "source": [
        "Nota final: Un ejemplo para invertir una cadena de caracteres de entrada:"
      ],
      "metadata": {
        "id": "h0XkUf35oak2"
      }
    },
    {
      "cell_type": "code",
      "source": [
        "a = input()\n",
        "print(a[::-1])"
      ],
      "metadata": {
        "colab": {
          "base_uri": "https://localhost:8080/"
        },
        "id": "2YRpwLbxn6qC",
        "outputId": "7d989451-376d-4c5f-c391-e453dcd1c0e9"
      },
      "execution_count": null,
      "outputs": [
        {
          "output_type": "stream",
          "name": "stdout",
          "text": [
            "Nicolás\n",
            "sálociN\n"
          ]
        }
      ]
    },
    {
      "cell_type": "markdown",
      "source": [
        "<center>\n",
        "\n",
        "---\n",
        "**Modulos de retos:** *¿Qué devuelven los siguientes códigos?*"
      ],
      "metadata": {
        "id": "cOrhKE1apzJZ"
      }
    },
    {
      "cell_type": "code",
      "source": [
        "list = [1, 1, 2, 3, 5, 8, 13]\n",
        "print(list[list[4]])"
      ],
      "metadata": {
        "id": "QkO59JtDpyRS"
      },
      "execution_count": null,
      "outputs": []
    },
    {
      "cell_type": "code",
      "source": [
        "for i in range(10):\n",
        "  if not i % 2 == 0:\n",
        "    print(i+1)"
      ],
      "metadata": {
        "id": "MOVZk66oo8qY"
      },
      "execution_count": null,
      "outputs": []
    },
    {
      "cell_type": "code",
      "source": [
        "x = [6, 4, 2, 9]\n",
        "x = x[::-1]\n",
        "print(x[0] + x[2])"
      ],
      "metadata": {
        "id": "JR64anS_sMhW"
      },
      "execution_count": null,
      "outputs": []
    },
    {
      "cell_type": "markdown",
      "source": [
        "\n",
        "---\n",
        "\n",
        "# **Módulo 6: Funciones**\n",
        "Hasta este punto ya se han conocido diferentes funciones usadas en Python (un grupo de declaraciones relacionadas que realizan una tarea específica).\n"
      ],
      "metadata": {
        "id": "PAuVtZxjtH9U"
      }
    },
    {
      "cell_type": "code",
      "source": [
        "print(\"Hello world!\")\n",
        "range(2, 20)\n",
        "str(12)\n",
        "range(10, 20, 3) #existen tres argumentos dentro del paréntesis y la palabra \"range\" haría referencia a un name."
      ],
      "metadata": {
        "colab": {
          "base_uri": "https://localhost:8080/"
        },
        "id": "_guhiiCk5RTH",
        "outputId": "8660df8a-56a8-4b49-e97f-ee53634b50e3"
      },
      "execution_count": null,
      "outputs": [
        {
          "output_type": "stream",
          "name": "stdout",
          "text": [
            "Hello world!\n"
          ]
        },
        {
          "output_type": "execute_result",
          "data": {
            "text/plain": [
              "range(10, 20, 3)"
            ]
          },
          "metadata": {},
          "execution_count": 1
        }
      ]
    },
    {
      "cell_type": "markdown",
      "source": [
        "Las palabras delante de los paréntesis son función (**names**), y los valores separados por comas dentro de los paréntesis son la función (**arguments**).\n",
        "\n",
        "Nota: Las funciones ayudan a dividir nuestro programa en trozos más pequeños y modulares. A medida que nuestro programa se hace más grande y más complejo, las funciones ayudan a hacerlo más organizado y manejable.\n",
        "\n",
        "\n",
        "\n",
        "---\n",
        "\n",
        "Otra función, para obtener el número de elementos de una lista es llamada (**len**)\n",
        "\n"
      ],
      "metadata": {
        "id": "dqZIRGiQ5hN6"
      }
    },
    {
      "cell_type": "code",
      "source": [
        "nums = [1, 3, 5, 2, 4]\n",
        "print(len(nums))"
      ],
      "metadata": {
        "colab": {
          "base_uri": "https://localhost:8080/"
        },
        "id": "XCS5p10t5cRx",
        "outputId": "8bd217a8-2df9-424f-aa68-042e6be79e00"
      },
      "execution_count": null,
      "outputs": [
        {
          "output_type": "stream",
          "name": "stdout",
          "text": [
            "5\n"
          ]
        }
      ]
    },
    {
      "cell_type": "markdown",
      "source": [
        "También se puede utilizar len sobre las cadenas para devolver su longitud (número de caracteres)\n",
        "\n",
        "Nota: A diferencia de los elementos de indexación, len no empieza por 0. La lista anterior contiene 5 elementos, lo que significa que le devolverá 5.\n",
        "\n",
        "\n",
        "\n",
        "---\n",
        "\n",
        "Teniendo en cuenta de las funciones que soportan listas, se puede utilizar la función **append()** que sirve para añadir un elemento al final de una lista existente:\n",
        "\n"
      ],
      "metadata": {
        "id": "oVH4Cy1z6wSt"
      }
    },
    {
      "cell_type": "code",
      "source": [
        "nums = [1, 2, 3]\n",
        "nums.append(4)\n",
        "print(nums)"
      ],
      "metadata": {
        "colab": {
          "base_uri": "https://localhost:8080/"
        },
        "id": "3BhUIHtD6tk4",
        "outputId": "5a6131a1-bc08-4f02-a3be-0b5c5370bd79"
      },
      "execution_count": null,
      "outputs": [
        {
          "output_type": "stream",
          "name": "stdout",
          "text": [
            "[1, 2, 3, 4]\n"
          ]
        }
      ]
    },
    {
      "cell_type": "markdown",
      "source": [
        "*Hay que tener en cuenta que la función se llama utilizando el nombre de la lista, seguido de un punto.*\n",
        "\n",
        "---\n",
        "\n",
        "Otra función es la de **insert()** que inserta un nuevo elemento en cualquier posición de la lista:"
      ],
      "metadata": {
        "id": "EC9CBI6w7Tv-"
      }
    },
    {
      "cell_type": "code",
      "source": [
        "words = [\"Python\", \"fun\"]\n",
        "index = 1 #selecciona el elemento 1 de la lista de cadenas dentro de la variable words.\n",
        "words.insert(index, \"is\") #ubicación como 1-elemento seguido de lo que se quiere reemplazar.\n",
        "print(words)"
      ],
      "metadata": {
        "colab": {
          "base_uri": "https://localhost:8080/"
        },
        "id": "-sxnl5eI756K",
        "outputId": "dbb178ab-6783-4b4c-f39e-318e2f0f23bc"
      },
      "execution_count": null,
      "outputs": [
        {
          "output_type": "stream",
          "name": "stdout",
          "text": [
            "['Python', 'is', 'fun']\n"
          ]
        }
      ]
    },
    {
      "cell_type": "markdown",
      "source": [
        "\n",
        "\n",
        "---\n",
        "\n",
        "También, otra función es **index()** que encuentra la primera aparición de un elemento de la lista y devuelve su índice:"
      ],
      "metadata": {
        "id": "yS6ElS8G8VWe"
      }
    },
    {
      "cell_type": "code",
      "source": [
        "letters = ['p', 'q', 'r', 's', 'p', 'u']\n",
        "print(letters.index('r'))\n",
        "print(letters.index('p'))\n",
        "print(letters.index('q'))"
      ],
      "metadata": {
        "colab": {
          "base_uri": "https://localhost:8080/"
        },
        "id": "ZR0MY-7y8HyB",
        "outputId": "21c05f4f-a11b-40e6-809d-d8931ef6b370"
      },
      "execution_count": null,
      "outputs": [
        {
          "output_type": "stream",
          "name": "stdout",
          "text": [
            "2\n",
            "0\n",
            "1\n"
          ]
        }
      ]
    },
    {
      "cell_type": "markdown",
      "source": [
        "---\n",
        "\n",
        "**Otras funciones:**\n",
        "\n",
        "- *max(list): Devuelve el valor máximo.*\n",
        "- *min(list): Devuelve el valor mínimo.*\n",
        "- *list.**count**(item): Devuelve un recuento de cuántas veces aparece un elemento en la lista.*\n",
        "- *list.**remove**(item): Elimina un elemento de una lista.*\n",
        "- *list.**reverse**(item): Invierte los elementos de una lista.*\n",
        "\n",
        "---\n",
        "\n",
        "<center>\n",
        "\n",
        "**Reto:** *Estas analizando un conjunto de datos y necesitas eliminar los valores atípicos (los más pequeños y los más grandes). Los datos están almacenados en una lista.*\n",
        "\n",
        "*Completa el código para eliminar los elementos más pequeños y más grandes de la lista y obtener la suma de los números restantes.*\n",
        "\n",
        "---"
      ],
      "metadata": {
        "id": "V39JjO1I9aMA"
      }
    },
    {
      "cell_type": "code",
      "source": [
        "data = [7, 5, 6.9, 1, 8, 42, 33, 128, 1024, 2, 8, 11, 0.4, 1024, 66, 809, 11, 8.9, 1.1, 3.42, 9, 100, 444, 78]\n",
        "data.remove(min(data))\n",
        "data.remove(max(data))\n",
        "sum = 0\n",
        "for x in data:\n",
        "  sum += x\n",
        "print(sum)"
      ],
      "metadata": {
        "colab": {
          "base_uri": "https://localhost:8080/"
        },
        "id": "iM_Wxabd9VYe",
        "outputId": "da34a0a1-71f2-4f9d-f2ee-9b0a0a43d509"
      },
      "execution_count": null,
      "outputs": [
        {
          "output_type": "stream",
          "name": "stdout",
          "text": [
            "2806.32\n"
          ]
        }
      ]
    },
    {
      "cell_type": "markdown",
      "source": [
        "---\n",
        "\n",
        "Las cadenas tienen una función **format()** que permite incrustar valores en él, utilizando marcadores de posición.\n"
      ],
      "metadata": {
        "id": "PBSACFW9AFUn"
      }
    },
    {
      "cell_type": "code",
      "source": [
        "nums = [4, 5, 6]\n",
        "msg = \"Numbers: {0} {1} {2}\".format(nums[0], nums[1], nums[2]) #los marcadores de posición se seleccionan por medio de {}\n",
        "print(msg)"
      ],
      "metadata": {
        "colab": {
          "base_uri": "https://localhost:8080/"
        },
        "id": "r5QUQquV_aSt",
        "outputId": "764513c4-43d2-4bf8-ff50-1b66ec86b42a"
      },
      "execution_count": null,
      "outputs": [
        {
          "output_type": "stream",
          "name": "stdout",
          "text": [
            "Numbers: 4 5 6\n"
          ]
        }
      ]
    },
    {
      "cell_type": "markdown",
      "source": [
        "Cada argumento de la función format se coloca en la cadena en la posición correspondiente, que se determina mediante las llaves {}.\n",
        "\n",
        "Otro ejemplo, sería:"
      ],
      "metadata": {
        "id": "JuZ1c5F6AhGJ"
      }
    },
    {
      "cell_type": "code",
      "source": [
        "print(\"{0}{1}{0}\".format(\"abra\", \"cad\"))"
      ],
      "metadata": {
        "colab": {
          "base_uri": "https://localhost:8080/"
        },
        "id": "EM-vyQ-MAd7G",
        "outputId": "a99eebe3-6b41-4c3b-a9f7-0c00b87f8550"
      },
      "execution_count": null,
      "outputs": [
        {
          "output_type": "stream",
          "name": "stdout",
          "text": [
            "abracadabra\n"
          ]
        }
      ]
    },
    {
      "cell_type": "markdown",
      "source": [
        "También se pueden nombrar los marcadores de posición, en lugar de los números de índice."
      ],
      "metadata": {
        "id": "bNZG4L3MA7Nj"
      }
    },
    {
      "cell_type": "code",
      "source": [
        "a = \"{x},{y}\".format(x=5, y=12)\n",
        "print(a)"
      ],
      "metadata": {
        "colab": {
          "base_uri": "https://localhost:8080/"
        },
        "id": "fRy3SjXmA5cB",
        "outputId": "95b0edcc-5a09-4b62-a186-147561dc9b5a"
      },
      "execution_count": null,
      "outputs": [
        {
          "output_type": "stream",
          "name": "stdout",
          "text": [
            "5,12\n"
          ]
        }
      ]
    },
    {
      "cell_type": "code",
      "source": [
        "str = \"{c}, {b}, {a}\".format(a=5, b=9, c=7)\n",
        "print(str)"
      ],
      "metadata": {
        "colab": {
          "base_uri": "https://localhost:8080/"
        },
        "id": "JLWwspxcBSKm",
        "outputId": "b31cd749-2efb-4532-d59e-b5626f64eb2d"
      },
      "execution_count": null,
      "outputs": [
        {
          "output_type": "stream",
          "name": "stdout",
          "text": [
            "7, 9, 5\n"
          ]
        }
      ]
    },
    {
      "cell_type": "markdown",
      "source": [
        "\n",
        "\n",
        "---\n",
        "\n",
        "**Otras funciones de cadena:**\n",
        "- **join**: Une una lista de cadenas con otra cadena como separador.\n",
        "- **replace**: Sustituye una subcadena de una cadena por otra.\n",
        "- **startswith** y **endswith**: Dterminan si hay una subcadena al principio y al final de una cadena, respectivamente.\n",
        "- **lower** y **upper**: Cambia el caso de una cadena.\n",
        "- **split**: Lo contrario de join, convierte una cadena con un determinado separador en una lista\n",
        "\n"
      ],
      "metadata": {
        "id": "NJv-IjZKBq3c"
      }
    },
    {
      "cell_type": "code",
      "source": [
        "print(\",\".join([\"spam\", \"eggs\", \"ham\"])) #lo vuelve una cadena separadas por una (,)\n",
        "\n",
        "print(\"Hello ME\".replace(\"ME\", \"world\")) #reemplaza ME por world\n",
        "\n",
        "print(\"This is a sentence.\".startswith(\"This\")) #verifica si al inicio hay una subcadena\n",
        "\n",
        "print(\"This is a sentence.\".endswith(\"sentence.\")) #verifica si al final hay una subcadena\n",
        "\n",
        "print(\"This is a sentence.\".upper()) #lo vuelve mayúsculas\n",
        "\n",
        "print(\"AN ALL CAPS SENTENCE\".lower()) #lo vuelve minúsculas\n",
        "\n",
        "print(\"spam, eggs, ham\".split(\", \")) #lo vuelve una lista con elementos separados por una (,)\n"
      ],
      "metadata": {
        "colab": {
          "base_uri": "https://localhost:8080/"
        },
        "id": "4_5dgvOTBgs8",
        "outputId": "06d7a965-ad4a-4ff5-b351-c7f226e0aea6"
      },
      "execution_count": null,
      "outputs": [
        {
          "output_type": "stream",
          "name": "stdout",
          "text": [
            "spam,eggs,ham\n",
            "Hello world\n",
            "True\n",
            "True\n",
            "THIS IS A SENTENCE.\n",
            "an all caps sentence\n",
            "['spam', 'eggs', 'ham']\n"
          ]
        }
      ]
    },
    {
      "cell_type": "code",
      "source": [
        "a = input()\n",
        "print(a.lower()) #este programa permite colocar en minúscula todo lo que uno escriba."
      ],
      "metadata": {
        "colab": {
          "base_uri": "https://localhost:8080/"
        },
        "id": "2NLC29v6CaSB",
        "outputId": "7b6335e9-4853-40d9-d00f-66810a1af868"
      },
      "execution_count": null,
      "outputs": [
        {
          "output_type": "stream",
          "name": "stdout",
          "text": [
            "HOLA MI NOMBRE ES NICOLAS\n",
            "hola mi nombre es nicolas\n"
          ]
        }
      ]
    },
    {
      "cell_type": "markdown",
      "source": [
        "---\n",
        "\n",
        "**¿Crear funciones?**: ¿Qué pasa si esas funciones predefinidas no son suficientes? Pues bien, se pueden crear funciones propias utilizando la declaración **def**.\n",
        "\n",
        "Este es un ejemplo de una función llamada *my_func*. No toma argumentos, e imprime \"spam\" tres veces. Se define y luego se llama. Las sentencias de la función se ejecutan sólo cuando se llama a la función.\n",
        "\n",
        "Nota: El bloque de código dentro de cada función comienza con dos puntos (:) y  está sangrado."
      ],
      "metadata": {
        "id": "P7FI2cr8EjgO"
      }
    },
    {
      "cell_type": "code",
      "source": [
        "def my_func():\n",
        "  print(\"spam\")\n",
        "  print(\"spam\")\n",
        "  print(\"spam\")\n",
        "\n",
        "my_func()"
      ],
      "metadata": {
        "colab": {
          "base_uri": "https://localhost:8080/"
        },
        "id": "R4jp44brER1B",
        "outputId": "b9653795-0a88-49ef-b864-b79a1369aace"
      },
      "execution_count": null,
      "outputs": [
        {
          "output_type": "stream",
          "name": "stdout",
          "text": [
            "spam\n",
            "spam\n",
            "spam\n"
          ]
        }
      ]
    },
    {
      "cell_type": "code",
      "source": [
        "def hello(): #se define una función llamada hello() que imprime \"Hi!\"\n",
        "  print(\"Hi!\")\n",
        "\n",
        "hello()\n",
        "hello() #se puede llamar a la función varias veces en el código.\n",
        "hello()"
      ],
      "metadata": {
        "colab": {
          "base_uri": "https://localhost:8080/"
        },
        "id": "eC6ETv8fFged",
        "outputId": "a24a75be-8239-4967-d887-03805fc35071"
      },
      "execution_count": null,
      "outputs": [
        {
          "output_type": "stream",
          "name": "stdout",
          "text": [
            "Hi!\n",
            "Hi!\n",
            "Hi!\n"
          ]
        }
      ]
    },
    {
      "cell_type": "markdown",
      "source": [
        "Otra de las características de funciones creadas es que las funciones pueden tomar *argumentos*, que pueden utilizarse para generar la salida de la función."
      ],
      "metadata": {
        "id": "JfFOE7MxF_xD"
      }
    },
    {
      "cell_type": "code",
      "source": [
        "def print_with_exclamation(word):\n",
        "  print(word + \"!\")\n",
        "\n",
        "print_with_exclamation(\"spam\")\n",
        "print_with_exclamation(\"eggs\")\n",
        "print_with_exclamation(\"python\")\n",
        "\n"
      ],
      "metadata": {
        "colab": {
          "base_uri": "https://localhost:8080/"
        },
        "id": "aWqzXGK0F2TM",
        "outputId": "880aa2e3-9e15-42ae-a05e-ba39efabc4ff"
      },
      "execution_count": null,
      "outputs": [
        {
          "output_type": "stream",
          "name": "stdout",
          "text": [
            "spam!\n",
            "eggs!\n",
            "python!\n"
          ]
        }
      ]
    },
    {
      "cell_type": "code",
      "source": [
        "def print_double(x): #funciona igual que en matemáticas cuando queremos llamar una función f(x) y x es la variable independiente que se remplaza por el valor de entrada.\n",
        "  print(2*x)         #En otras palabras se podría decir que el argumento es como la variable independiente.\n",
        "\n",
        "print_double(3)"
      ],
      "metadata": {
        "colab": {
          "base_uri": "https://localhost:8080/"
        },
        "id": "EUpOoih1HtbD",
        "outputId": "85b656ba-07ea-41c9-dfbe-0d997fd33e44"
      },
      "execution_count": null,
      "outputs": [
        {
          "output_type": "stream",
          "name": "stdout",
          "text": [
            "6\n"
          ]
        }
      ]
    },
    {
      "cell_type": "markdown",
      "source": [
        "Aún mejor, se pueden definir funciones con más de un argumento; sepáralos con comas. Así:"
      ],
      "metadata": {
        "id": "UA88KEzmISWp"
      }
    },
    {
      "cell_type": "code",
      "source": [
        "def print_sum_twice(x, y):\n",
        "  print(x+y)\n",
        "  print(x-y)\n",
        "\n",
        "print_sum_twice(5, 8)"
      ],
      "metadata": {
        "colab": {
          "base_uri": "https://localhost:8080/"
        },
        "id": "OhznDEWCH5ms",
        "outputId": "d47dd850-1ffe-4052-d4a7-734482128f46"
      },
      "execution_count": null,
      "outputs": [
        {
          "output_type": "stream",
          "name": "stdout",
          "text": [
            "13\n",
            "-3\n"
          ]
        }
      ]
    },
    {
      "cell_type": "markdown",
      "source": [
        "---\n",
        "\n",
        "<center>\n",
        "\n",
        "**Reto:** *Necesitas hacer una función que convierta un valor de pies a pulgadas. Recordemos que 1 pie tiene 12 pulgadas.*\n",
        "\n",
        "*Define una función convert() que tome el valor de los pies como argumento y produzca el valor de las pulgadas.*\n",
        "\n",
        "---"
      ],
      "metadata": {
        "id": "7LW-Bj1xI4F5"
      }
    },
    {
      "cell_type": "code",
      "source": [
        "feet = int(input())\n",
        "def convert(x):\n",
        "  print(12*x)\n",
        "convert(feet)"
      ],
      "metadata": {
        "colab": {
          "base_uri": "https://localhost:8080/"
        },
        "id": "bOTDP4S3IpZJ",
        "outputId": "2cf239c8-ac8b-4c61-99a2-05ceacecc953"
      },
      "execution_count": null,
      "outputs": [
        {
          "output_type": "stream",
          "name": "stdout",
          "text": [
            "15\n",
            "180\n"
          ]
        }
      ]
    },
    {
      "cell_type": "markdown",
      "source": [
        "---\n",
        "**Return:** Algunas funciones, como *int* o *str*, devuelven un valor en lugar de emitirlo.\n",
        "\n",
        "El valor devuelto puede ser utilizado posteriormente en el código, por ejemplo, asignándolo a una variable.\n",
        "\n",
        "Para hacer esto para sus funciones definidas, puede utilizar la declaración **return**:"
      ],
      "metadata": {
        "id": "j8EGwm4DsjWk"
      }
    },
    {
      "cell_type": "code",
      "source": [
        "def max(x,y):\n",
        "  if x >=y:\n",
        "    return x\n",
        "  else:\n",
        "    return y\n",
        "\n",
        "print(max(4,7))  #aquí solo se imprime la definición respectiva del número máximo entre ambos números\n",
        "z = max(8,5)     #se nombra una variable a la definición aplicada de ambos números.\n",
        "print(z)         #se imprime exactamente esa variable definida"
      ],
      "metadata": {
        "colab": {
          "base_uri": "https://localhost:8080/"
        },
        "id": "lr9Jh3qftARB",
        "outputId": "23f04687-67bc-4922-f993-37e58cf9a7c1"
      },
      "execution_count": null,
      "outputs": [
        {
          "output_type": "stream",
          "name": "stdout",
          "text": [
            "7\n",
            "8\n"
          ]
        }
      ]
    },
    {
      "cell_type": "code",
      "source": [
        "def shortest_string(x,y):\n",
        "  if len(x) <= len(y):\n",
        "    return x\n",
        "  else:\n",
        "    return y"
      ],
      "metadata": {
        "id": "oaapCRygtUAB"
      },
      "execution_count": null,
      "outputs": []
    },
    {
      "cell_type": "markdown",
      "source": [
        "Una vez que se devuelve un valor de una función, ésta deja de ejecutarse inmediatamente.\n",
        "\n",
        "Cualquier código colocado después de la declaración **return** no se ejecutará."
      ],
      "metadata": {
        "id": "94Vkdo1wurGL"
      }
    },
    {
      "cell_type": "code",
      "source": [
        "def add_numbers(x,y):\n",
        "  total = x + y\n",
        "  return total       #una vez impreso el resultado por medio de la función return, lo que siga del código no se ejecutará.\n",
        "  print(\"This won't be printed\")\n",
        "\n",
        "print(add_numbers(4,5))"
      ],
      "metadata": {
        "colab": {
          "base_uri": "https://localhost:8080/"
        },
        "id": "l_25WgnWuorP",
        "outputId": "97975a22-01a8-4f01-85ab-a272aa5bb116"
      },
      "execution_count": null,
      "outputs": [
        {
          "output_type": "stream",
          "name": "stdout",
          "text": [
            "9\n"
          ]
        }
      ]
    },
    {
      "cell_type": "code",
      "source": [
        "def sum(x):\n",
        "  res = 0\n",
        "  for i in range(x): #este programa sirve para sumar los números del número indicado desde el rango, en este caso (0, 1, 2, 3, 4) = 10\n",
        "    res += i\n",
        "  return res\n",
        "\n",
        "print(sum(5))"
      ],
      "metadata": {
        "colab": {
          "base_uri": "https://localhost:8080/"
        },
        "id": "YbGSA8QpzgdK",
        "outputId": "56cd82b9-fe2c-47a9-a553-a57af17a0f5e"
      },
      "execution_count": null,
      "outputs": [
        {
          "output_type": "stream",
          "name": "stdout",
          "text": [
            "10\n"
          ]
        }
      ]
    },
    {
      "cell_type": "markdown",
      "source": [
        "---\n",
        "\n",
        "<center>\n",
        "\n",
        "**Reto:** *Escribe una función que tome una cadena y una letra como argumentos y devuelva la cuenta de la letra en la cadena.*\n",
        "\n",
        "*Ejemplo de entrada: hello, how are you? , o - Ejemplo de salida: 3*\n",
        "\n",
        "*Explicación: La letra o aparace 3 veces en el texto dado.*\n",
        "\n",
        "---"
      ],
      "metadata": {
        "id": "IqAG4cOdvjk0"
      }
    },
    {
      "cell_type": "code",
      "source": [
        "def letter_count(text, letter):\n",
        "  i = 0\n",
        "  for x in text:\n",
        "    if x == letter:\n",
        "      i = i + 1\n",
        "  return i\n",
        "text = input()\n",
        "letter = input()\n",
        "print(letter_count(text, letter))"
      ],
      "metadata": {
        "colab": {
          "base_uri": "https://localhost:8080/"
        },
        "id": "AQaJEIpKvMxZ",
        "outputId": "7ee580bd-0c6b-4b93-99ae-77d8bb9a2b9a"
      },
      "execution_count": null,
      "outputs": [
        {
          "output_type": "stream",
          "name": "stdout",
          "text": [
            "hello, how are you?\n",
            "o\n",
            "3\n"
          ]
        }
      ]
    },
    {
      "cell_type": "markdown",
      "source": [
        "\n",
        "\n",
        "---\n",
        "\n",
        "**Comentarios y docstrings:** A diferencia de los comentarios (#) en el código, también existen los llamados *docstrings* (cadenas de documentación) que son similares a los comentarios, ya que están diseñados para explicar el código. Pero son más específicos y tienen una sintaxis diferente. A diferencia de los comentarios convencionales, los docstrings se conservan durante todo el tiempo de ejecución del programa. Esto permite al programador inspeccionar estos comentarios en tiempo de ejecución.\n",
        "\n",
        "Se crean poniendo una cadena de varias líneas que contiene una explicación de la función debajo de la primera línea de la función."
      ],
      "metadata": {
        "id": "Zes7b-yWxRIm"
      }
    },
    {
      "cell_type": "code",
      "source": [
        "def shout(word):\n",
        "  \"\"\"\n",
        "  Print a word with an\n",
        "  exclamation mark following it.\n",
        "  \"\"\"\n",
        "  print(word + \"!\")\n",
        "\n",
        "shout(\"spam\")"
      ],
      "metadata": {
        "colab": {
          "base_uri": "https://localhost:8080/"
        },
        "id": "ywbsjkGGwZyc",
        "outputId": "df54c82c-0856-47c5-a87d-99cce42611fa"
      },
      "execution_count": null,
      "outputs": [
        {
          "output_type": "stream",
          "name": "stdout",
          "text": [
            "spam!\n"
          ]
        }
      ]
    },
    {
      "cell_type": "markdown",
      "source": [
        "---\n",
        "\n",
        "#**Modulo 7: Funciones matemáticas aplicadas**\n",
        "\n",
        "Para obtener relaciones físicas a partir de:\n",
        "\n",
        " $$\\mathbb{R}^n\\rightarrow\\mathbb{R}$$\n",
        "\n",
        "Por ejemplo:\n",
        "La ecuación de movimiento en el eje Y de una partícula libre:\n",
        "$$y(y_0,v_0,t)=y_0+v_0 t - \\frac{1}{2} g t^2$$\n"
      ],
      "metadata": {
        "id": "JXsXjB3-3Ql0"
      }
    },
    {
      "cell_type": "code",
      "source": [
        "def y_pos(y0,v0,t):         #Aquí se define la función y_pos que contiene las variables y0, v0 y t.\n",
        "    g= 9.8 #m/s^2           #Aquí se define la constante de la aceleración gravitacional terrestre.\n",
        "    return(y0+v0*t-0.5*g*t**2)       #Aquí devuelve la forma operacional para calcular la altura y."
      ],
      "metadata": {
        "id": "PR90IFJs3-iT"
      },
      "execution_count": null,
      "outputs": []
    },
    {
      "cell_type": "code",
      "source": [
        "import numpy as np"
      ],
      "metadata": {
        "id": "ukRDdYL_4coa"
      },
      "execution_count": null,
      "outputs": []
    },
    {
      "cell_type": "code",
      "source": [
        "t= np.linspace(0,10,11)      #Aquí se define el intervalo temporal de 0 a 10 segundos con 11 datos en total.\n",
        "t"
      ],
      "metadata": {
        "colab": {
          "base_uri": "https://localhost:8080/"
        },
        "id": "7sY391pr4fLl",
        "outputId": "74f9e92a-81f9-4a90-a631-c5ee8b6c5d77"
      },
      "execution_count": null,
      "outputs": [
        {
          "output_type": "execute_result",
          "data": {
            "text/plain": [
              "array([ 0.,  1.,  2.,  3.,  4.,  5.,  6.,  7.,  8.,  9., 10.])"
            ]
          },
          "metadata": {},
          "execution_count": 3
        }
      ]
    },
    {
      "cell_type": "code",
      "source": [
        "y_pos(0,30,t)        #Aquí se usa la función y_pos, evaluando la posición inicial por y0=0 y v0=30 y dejando t como variable independiente."
      ],
      "metadata": {
        "colab": {
          "base_uri": "https://localhost:8080/"
        },
        "id": "PGygO9eL4mvW",
        "outputId": "b77e7031-b421-496e-cc99-95999c361332"
      },
      "execution_count": null,
      "outputs": [
        {
          "output_type": "execute_result",
          "data": {
            "text/plain": [
              "array([   0. ,   25.1,   40.4,   45.9,   41.6,   27.5,    3.6,  -30.1,\n",
              "        -73.6, -126.9, -190. ])"
            ]
          },
          "metadata": {},
          "execution_count": 4
        }
      ]
    },
    {
      "cell_type": "markdown",
      "source": [
        "Así, este último devuelve el resultado de y_pos para cada valor de tiempo."
      ],
      "metadata": {
        "id": "dWxLybv35M3H"
      }
    },
    {
      "cell_type": "code",
      "source": [
        "import matplotlib.pyplot as plt\n",
        "plt.plot(t,y_pos(0,30,t))    #Se grafica la función y_pos definita anteriormente y evaluada en t\n",
        "plt.ylabel('y(m)')           #Se nombra el eje y\n",
        "plt.xlabel('t(s)')           #Se nombra el eje x"
      ],
      "metadata": {
        "colab": {
          "base_uri": "https://localhost:8080/",
          "height": 466
        },
        "id": "MsVX0NtZ5KsT",
        "outputId": "0c566dc5-ad98-41bd-e0e9-1d76b6686bf2"
      },
      "execution_count": null,
      "outputs": [
        {
          "output_type": "execute_result",
          "data": {
            "text/plain": [
              "Text(0.5, 0, 't(s)')"
            ]
          },
          "metadata": {},
          "execution_count": 5
        },
        {
          "output_type": "display_data",
          "data": {
            "text/plain": [
              "<Figure size 640x480 with 1 Axes>"
            ],
            "image/png": "[encoded data removed]"
          },
          "metadata": {}
        }
      ]
    },
    {
      "cell_type": "markdown",
      "source": [
        "Otro ejemplo de función podría ser.\n",
        "\n",
        "$$\\frac{dy}{dt}= v(v_0,t)=v_0-gt$$"
      ],
      "metadata": {
        "id": "CPdER-EO7nYf"
      }
    },
    {
      "cell_type": "code",
      "source": [
        "def y_vel(v0,t):\n",
        "    g= 9.8 #m/s^2\n",
        "    return(v0-g*t)"
      ],
      "metadata": {
        "id": "eSXhm7Iv7Mw2"
      },
      "execution_count": null,
      "outputs": []
    },
    {
      "cell_type": "code",
      "source": [
        "plt.plot(t,y_vel(30,t))\n",
        "plt.title('Función de velocidad / tiempo')\n",
        "plt.legend(['Velocidad de la partícula'])\n",
        "plt.ylabel('$v_y$(m)')\n",
        "plt.xlabel('t(s)')\n",
        "plt.grid()"
      ],
      "metadata": {
        "colab": {
          "base_uri": "https://localhost:8080/",
          "height": 472
        },
        "id": "R5s1jEY17wqs",
        "outputId": "47c3e492-a42f-462e-a1dc-0ac67f4f77ba"
      },
      "execution_count": null,
      "outputs": [
        {
          "output_type": "display_data",
          "data": {
            "text/plain": [
              "<Figure size 640x480 with 1 Axes>"
            ],
            "image/png": "[encoded data removed]"
          },
          "metadata": {}
        }
      ]
    },
    {
      "cell_type": "markdown",
      "source": [
        "---\n",
        "\n",
        "Si se quiere hacer un código en caja se puede usar:\n",
        "\n",
        "`print(\"Hola\")`"
      ],
      "metadata": {
        "id": "rn0BEVLTDE0W"
      }
    },
    {
      "cell_type": "code",
      "source": [],
      "metadata": {
        "id": "P1wKtRtz7zNf"
      },
      "execution_count": null,
      "outputs": []
    }
  ]
}